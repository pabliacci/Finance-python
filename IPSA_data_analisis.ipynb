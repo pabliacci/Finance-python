{
  "nbformat": 4,
  "nbformat_minor": 0,
  "metadata": {
    "colab": {
      "provenance": [],
      "authorship_tag": "ABX9TyNQRfJ+z7I2bpY5tTKnaNeW"
    },
    "kernelspec": {
      "name": "python3",
      "display_name": "Python 3"
    },
    "language_info": {
      "name": "python"
    }
  },
  "cells": [
    {
      "cell_type": "markdown",
      "source": [
        "**Introducción**\n",
        "\n",
        "En el presente proyecto de análisis financiero, se utilizará Python en la plataforma Jupyter Colab para llevar a cabo un estudio detallado de las empresas que cotizan en el IPSA (Índice de Precios Selectivo de Acciones). El objetivo principal es analizar los estados financieros de estas compañías y agruparlas en función de sus similitudes, aplicando técnicas de Machine Learning.\n",
        "\n",
        "La finalidad del proyecto es desarrollar un código eficiente y automatizado que permita identificar patrones de comportamiento financiero entre las empresas, independientemente del sector económico al que pertenezcan. Esto facilitará la detección de grupos con dinámicas similares, proporcionando una herramienta útil para inversionistas, analistas y otros actores del mercado financiero."
      ],
      "metadata": {
        "id": "XIva9NU2b5Wt"
      }
    },
    {
      "cell_type": "code",
      "execution_count": 1,
      "metadata": {
        "id": "Eilx1R_klny_"
      },
      "outputs": [],
      "source": [
        "#importamos librerias a utilizar\n",
        "import pandas as pd\n",
        "from datetime import datetime\n",
        "import pandas_datareader as web\n",
        "import matplotlib.pyplot as plt\n",
        "import seaborn as sns\n",
        "from matplotlib import style\n",
        "%matplotlib inline"
      ]
    },
    {
      "cell_type": "markdown",
      "source": [
        "# Sección nueva"
      ],
      "metadata": {
        "id": "-pDMBK_paFZP"
      }
    },
    {
      "cell_type": "code",
      "source": [
        "!pip install yfinance\n",
        "\n",
        "import yfinance as yf"
      ],
      "metadata": {
        "colab": {
          "base_uri": "https://localhost:8080/"
        },
        "id": "sjzcJDpilsJr",
        "outputId": "61772a16-6301-4b59-b529-2898743b5d7a"
      },
      "execution_count": 2,
      "outputs": [
        {
          "output_type": "stream",
          "name": "stdout",
          "text": [
            "Requirement already satisfied: yfinance in /usr/local/lib/python3.10/dist-packages (0.2.50)\n",
            "Requirement already satisfied: pandas>=1.3.0 in /usr/local/lib/python3.10/dist-packages (from yfinance) (2.2.2)\n",
            "Requirement already satisfied: numpy>=1.16.5 in /usr/local/lib/python3.10/dist-packages (from yfinance) (1.26.4)\n",
            "Requirement already satisfied: requests>=2.31 in /usr/local/lib/python3.10/dist-packages (from yfinance) (2.32.3)\n",
            "Requirement already satisfied: multitasking>=0.0.7 in /usr/local/lib/python3.10/dist-packages (from yfinance) (0.0.11)\n",
            "Requirement already satisfied: lxml>=4.9.1 in /usr/local/lib/python3.10/dist-packages (from yfinance) (5.3.0)\n",
            "Requirement already satisfied: platformdirs>=2.0.0 in /usr/local/lib/python3.10/dist-packages (from yfinance) (4.3.6)\n",
            "Requirement already satisfied: pytz>=2022.5 in /usr/local/lib/python3.10/dist-packages (from yfinance) (2024.2)\n",
            "Requirement already satisfied: frozendict>=2.3.4 in /usr/local/lib/python3.10/dist-packages (from yfinance) (2.4.6)\n",
            "Requirement already satisfied: peewee>=3.16.2 in /usr/local/lib/python3.10/dist-packages (from yfinance) (3.17.8)\n",
            "Requirement already satisfied: beautifulsoup4>=4.11.1 in /usr/local/lib/python3.10/dist-packages (from yfinance) (4.12.3)\n",
            "Requirement already satisfied: html5lib>=1.1 in /usr/local/lib/python3.10/dist-packages (from yfinance) (1.1)\n",
            "Requirement already satisfied: soupsieve>1.2 in /usr/local/lib/python3.10/dist-packages (from beautifulsoup4>=4.11.1->yfinance) (2.6)\n",
            "Requirement already satisfied: six>=1.9 in /usr/local/lib/python3.10/dist-packages (from html5lib>=1.1->yfinance) (1.17.0)\n",
            "Requirement already satisfied: webencodings in /usr/local/lib/python3.10/dist-packages (from html5lib>=1.1->yfinance) (0.5.1)\n",
            "Requirement already satisfied: python-dateutil>=2.8.2 in /usr/local/lib/python3.10/dist-packages (from pandas>=1.3.0->yfinance) (2.8.2)\n",
            "Requirement already satisfied: tzdata>=2022.7 in /usr/local/lib/python3.10/dist-packages (from pandas>=1.3.0->yfinance) (2024.2)\n",
            "Requirement already satisfied: charset-normalizer<4,>=2 in /usr/local/lib/python3.10/dist-packages (from requests>=2.31->yfinance) (3.4.0)\n",
            "Requirement already satisfied: idna<4,>=2.5 in /usr/local/lib/python3.10/dist-packages (from requests>=2.31->yfinance) (3.10)\n",
            "Requirement already satisfied: urllib3<3,>=1.21.1 in /usr/local/lib/python3.10/dist-packages (from requests>=2.31->yfinance) (2.2.3)\n",
            "Requirement already satisfied: certifi>=2017.4.17 in /usr/local/lib/python3.10/dist-packages (from requests>=2.31->yfinance) (2024.8.30)\n"
          ]
        }
      ]
    },
    {
      "cell_type": "markdown",
      "source": [
        "Revisamos la informacion que podemos obtener de yfinance, esta es la informacion que utilizaremos para el analisis final"
      ],
      "metadata": {
        "id": "UMNRqwkNcOGF"
      }
    },
    {
      "cell_type": "code",
      "source": [
        "# Define the date range for the data\n",
        "start_date = datetime(2023, 1, 1)\n",
        "end_date = datetime(2023, 8, 30)\n",
        "\n",
        "# Fetch Google stock data from Yahoo Finance using yfinance\n",
        "google_data = yf.download(\"BSANTANDER.SN\", start=start_date, end=end_date)\n",
        "# Display the first few rows of the fetched data\n",
        "print(google_data.head())"
      ],
      "metadata": {
        "colab": {
          "base_uri": "https://localhost:8080/"
        },
        "id": "RhMVvo35l_Tp",
        "outputId": "4cfdff2f-b050-460d-b97e-c62516d2b286"
      },
      "execution_count": 3,
      "outputs": [
        {
          "output_type": "stream",
          "name": "stderr",
          "text": [
            "\r[*********************100%***********************]  1 of 1 completed"
          ]
        },
        {
          "output_type": "stream",
          "name": "stdout",
          "text": [
            "Price          Adj Close         Close          High           Low  \\\n",
            "Ticker     BSANTANDER.SN BSANTANDER.SN BSANTANDER.SN BSANTANDER.SN   \n",
            "Date                                                                 \n",
            "2023-01-03     29.868244     33.400002     33.950001     33.360001   \n",
            "2023-01-04     29.555252     33.049999     33.450001     33.020000   \n",
            "2023-01-05     29.760931     33.279999     33.340000     32.000000   \n",
            "2023-01-06     29.921898     33.459999     33.459999     33.279999   \n",
            "2023-01-09     30.118635     33.680000     33.750000     33.200001   \n",
            "\n",
            "Price               Open        Volume  \n",
            "Ticker     BSANTANDER.SN BSANTANDER.SN  \n",
            "Date                                    \n",
            "2023-01-03     33.400002       9392043  \n",
            "2023-01-04     33.049999      14840191  \n",
            "2023-01-05     33.279999       8638953  \n",
            "2023-01-06     33.459999       1688317  \n",
            "2023-01-09     33.680000      10631460  \n"
          ]
        },
        {
          "output_type": "stream",
          "name": "stderr",
          "text": [
            "\n"
          ]
        }
      ]
    },
    {
      "cell_type": "code",
      "source": [
        "CHILE = yf.Ticker('CHILE.SN')\n",
        "CHILE.info"
      ],
      "metadata": {
        "id": "e9ZeG8zSBnY4",
        "colab": {
          "base_uri": "https://localhost:8080/"
        },
        "outputId": "d0e7f5c0-9625-445c-d50a-d9db05abd3bf"
      },
      "execution_count": 4,
      "outputs": [
        {
          "output_type": "execute_result",
          "data": {
            "text/plain": [
              "{'address1': 'Ahumada 251',\n",
              " 'city': 'Santiago',\n",
              " 'country': 'Chile',\n",
              " 'phone': '56 22 653 1111',\n",
              " 'fax': '56 22 637 3434',\n",
              " 'website': 'https://portales.bancochile.cl',\n",
              " 'industry': 'Banks - Regional',\n",
              " 'industryKey': 'banks-regional',\n",
              " 'industryDisp': 'Banks - Regional',\n",
              " 'sector': 'Financial Services',\n",
              " 'sectorKey': 'financial-services',\n",
              " 'sectorDisp': 'Financial Services',\n",
              " 'longBusinessSummary': 'Banco de Chile, together with its subsidiaries, provides various banking services to customers in Chile. The company offers checking and debit accounts, debit and credit cards, and lines of credit; mortgage, consume, commercial, general purpose mortgage loans, and finance leases; and factoring services, mutual fund management, stock brokerage, foreign trade, payments and collections, insurance brokerage, including life and general insurance, as well as time deposits, savings instruments, and foreign currency services through branches under the Banco de Chile and Banco Edwards brands. It also provides working capital loans, corporate credit cards, foreign currency brokerage, leasing and long-term syndicated loans, advisory services for mergers acquisitions and debt restructuring; cash management services, including payment and collection services; and international fund transfer networks, current account and deposit products, fund administration, and treasury management. In addition, the company offers insurance brokerage, derivative contracts, transactional banking, financial risks coverage, representation and asset custody, investment banking and management, capital markets products, foreign exchange transactions; and advisory services for initial public offerings, capital increases, sales and purchases of blocks of shares, private capital placements, public share tenders, company valuations, bond issuances, and syndicated loans services. Further, it provides foreign exchange brokerage, forward contracts, interest rate swaps, repurchase agreements, and other investment products based on bonds, mortgage bonds and deposits. The company serves individuals, small and medium-sized companies, corporate clients, and large companies, real estate and construction, and high net worth family office customers. Banco de Chile was founded in 1893 and is headquartered in Santiago, Chile.',\n",
              " 'companyOfficers': [{'maxAge': 1,\n",
              "   'name': 'Mr. Hernan  Buchi Buc',\n",
              "   'age': 74,\n",
              "   'title': 'Director',\n",
              "   'yearBorn': 1949,\n",
              "   'fiscalYear': 2023,\n",
              "   'totalPay': 192000000,\n",
              "   'exercisedValue': 0,\n",
              "   'unexercisedValue': 0},\n",
              "  {'maxAge': 1,\n",
              "   'name': 'Mr. Eduardo Ebensperger Orrego',\n",
              "   'age': 58,\n",
              "   'title': 'Chief Executive Officer',\n",
              "   'yearBorn': 1965,\n",
              "   'fiscalYear': 2023,\n",
              "   'exercisedValue': 0,\n",
              "   'unexercisedValue': 0},\n",
              "  {'maxAge': 1,\n",
              "   'name': 'Mr. Rolando Arias Sanchez',\n",
              "   'age': 58,\n",
              "   'title': 'Chief Financial Officer',\n",
              "   'yearBorn': 1965,\n",
              "   'fiscalYear': 2023,\n",
              "   'exercisedValue': 0,\n",
              "   'unexercisedValue': 0},\n",
              "  {'maxAge': 1,\n",
              "   'name': 'Mr. Hector  Hernandez Gonzalez',\n",
              "   'title': 'General Manager of Accounting',\n",
              "   'fiscalYear': 2023,\n",
              "   'exercisedValue': 0,\n",
              "   'unexercisedValue': 0},\n",
              "  {'maxAge': 1,\n",
              "   'name': 'Mr. Esteban Kemp De La Hoz',\n",
              "   'age': 42,\n",
              "   'title': 'Manager of Marketing, Technology & Digital Division',\n",
              "   'yearBorn': 1981,\n",
              "   'fiscalYear': 2023,\n",
              "   'exercisedValue': 0,\n",
              "   'unexercisedValue': 0},\n",
              "  {'maxAge': 1,\n",
              "   'name': 'Mr. Pablo Camilo Mejia Ricci',\n",
              "   'title': 'Head of Investor Relations',\n",
              "   'fiscalYear': 2023,\n",
              "   'exercisedValue': 0,\n",
              "   'unexercisedValue': 0},\n",
              "  {'maxAge': 1,\n",
              "   'name': 'Mr. Felipe  Echaiz Bornemann',\n",
              "   'age': 56,\n",
              "   'title': 'Manager of Global Compliance Division',\n",
              "   'yearBorn': 1967,\n",
              "   'fiscalYear': 2023,\n",
              "   'exercisedValue': 0,\n",
              "   'unexercisedValue': 0},\n",
              "  {'maxAge': 1,\n",
              "   'name': 'Mr. Alfredo Villegas Montes',\n",
              "   'age': 51,\n",
              "   'title': 'General Counsel & Secretary of the Board of Directors',\n",
              "   'yearBorn': 1972,\n",
              "   'fiscalYear': 2023,\n",
              "   'exercisedValue': 0,\n",
              "   'unexercisedValue': 0},\n",
              "  {'maxAge': 1,\n",
              "   'name': 'Mr. Cristian  Lagos Contardo',\n",
              "   'age': 57,\n",
              "   'title': 'Manager of People & Organisation Division',\n",
              "   'yearBorn': 1966,\n",
              "   'fiscalYear': 2023,\n",
              "   'exercisedValue': 0,\n",
              "   'unexercisedValue': 0},\n",
              "  {'maxAge': 1,\n",
              "   'name': 'Mr. Rodrigo  Aravena',\n",
              "   'title': 'Chief Economist & Senior VP of Institutional Relations',\n",
              "   'fiscalYear': 2023,\n",
              "   'exercisedValue': 0,\n",
              "   'unexercisedValue': 0}],\n",
              " 'compensationAsOfEpochDate': 1703980800,\n",
              " 'maxAge': 86400,\n",
              " 'priceHint': 2,\n",
              " 'previousClose': 114.8,\n",
              " 'open': 114.79,\n",
              " 'dayLow': 114.0,\n",
              " 'dayHigh': 115.0,\n",
              " 'regularMarketPreviousClose': 114.8,\n",
              " 'regularMarketOpen': 114.79,\n",
              " 'regularMarketDayLow': 114.0,\n",
              " 'regularMarketDayHigh': 115.0,\n",
              " 'dividendRate': 8.08,\n",
              " 'dividendYield': 0.0696,\n",
              " 'exDividendDate': 1711324800,\n",
              " 'fiveYearAvgDividendYield': 5.8,\n",
              " 'beta': 0.201,\n",
              " 'trailingPE': 8.083629,\n",
              " 'forwardPE': 10.426722,\n",
              " 'volume': 6588114,\n",
              " 'regularMarketVolume': 6588114,\n",
              " 'averageVolume': 93190103,\n",
              " 'averageVolume10days': 79266726,\n",
              " 'averageDailyVolume10Day': 79266726,\n",
              " 'bid': 114.06,\n",
              " 'ask': 114.18,\n",
              " 'marketCap': 11521999503360,\n",
              " 'fiftyTwoWeekLow': 98.0,\n",
              " 'fiftyTwoWeekHigh': 118.0,\n",
              " 'priceToSalesTrailing12Months': 3.9732966,\n",
              " 'fiftyDayAverage': 113.3424,\n",
              " 'twoHundredDayAverage': 111.0044,\n",
              " 'trailingAnnualDividendRate': 8.077,\n",
              " 'trailingAnnualDividendYield': 0.07035714,\n",
              " 'currency': 'CLP',\n",
              " 'enterpriseValue': 18985464627200,\n",
              " 'profitMargins': 0.49148998,\n",
              " 'floatShares': 36269172803,\n",
              " 'sharesOutstanding': 101017001984,\n",
              " 'heldPercentInsiders': 0.56352,\n",
              " 'heldPercentInstitutions': 0.30945998,\n",
              " 'impliedSharesOutstanding': 102318997504,\n",
              " 'bookValue': 54.195,\n",
              " 'priceToBook': 2.1046221,\n",
              " 'lastFiscalYearEnd': 1703980800,\n",
              " 'nextFiscalYearEnd': 1735603200,\n",
              " 'mostRecentQuarter': 1727654400,\n",
              " 'earningsQuarterlyGrowth': 0.108,\n",
              " 'netIncomeToCommon': 1425260937216,\n",
              " 'trailingEps': 14.11,\n",
              " 'forwardEps': 10.61,\n",
              " 'lastSplitFactor': '1.02238:1',\n",
              " 'lastSplitDate': 1532304000,\n",
              " 'enterpriseToRevenue': 6.547,\n",
              " '52WeekChange': 0.15053117,\n",
              " 'SandP52WeekChange': 0.28781593,\n",
              " 'lastDividendValue': 8.582008,\n",
              " 'lastDividendDate': 1679270400,\n",
              " 'exchange': 'SGO',\n",
              " 'quoteType': 'EQUITY',\n",
              " 'symbol': 'CHILE.SN',\n",
              " 'underlyingSymbol': 'CHILE.SN',\n",
              " 'shortName': 'BANCO DE CHILE',\n",
              " 'longName': 'Banco de Chile',\n",
              " 'firstTradeDateEpochUtc': 1199277000,\n",
              " 'timeZoneFullName': 'America/Santiago',\n",
              " 'timeZoneShortName': 'CLST',\n",
              " 'uuid': '64320641-33f4-311f-8ff2-bc1185331fa5',\n",
              " 'messageBoardId': 'finmb_689995',\n",
              " 'gmtOffSetMilliseconds': -10800000,\n",
              " 'currentPrice': 114.06,\n",
              " 'targetHighPrice': 135.0,\n",
              " 'targetLowPrice': 98.2,\n",
              " 'targetMeanPrice': 119.525,\n",
              " 'targetMedianPrice': 122.5,\n",
              " 'recommendationMean': 2.55556,\n",
              " 'recommendationKey': 'hold',\n",
              " 'numberOfAnalystOpinions': 8,\n",
              " 'totalCash': 7517263888384,\n",
              " 'totalCashPerShare': 74.416,\n",
              " 'totalDebt': 14905967116288,\n",
              " 'totalRevenue': 2899858948096,\n",
              " 'revenuePerShare': 28.707,\n",
              " 'returnOnAssets': 0.02668,\n",
              " 'returnOnEquity': 0.27146,\n",
              " 'operatingCashflow': -788589969408,\n",
              " 'earningsGrowth': 0.109,\n",
              " 'revenueGrowth': 0.031,\n",
              " 'operatingMargins': 0.57379,\n",
              " 'financialCurrency': 'CLP',\n",
              " 'trailingPegRatio': None}"
            ]
          },
          "metadata": {},
          "execution_count": 4
        }
      ]
    },
    {
      "cell_type": "code",
      "source": [
        "stock = yf.Ticker('CHILE.SN')\n",
        "stock.info.get(\"sector\")"
      ],
      "metadata": {
        "colab": {
          "base_uri": "https://localhost:8080/",
          "height": 35
        },
        "id": "OksYsuZ1pQ6R",
        "outputId": "befab2a6-ac47-43d6-a67e-5ed825c995c8"
      },
      "execution_count": 46,
      "outputs": [
        {
          "output_type": "execute_result",
          "data": {
            "text/plain": [
              "'Financial Services'"
            ],
            "application/vnd.google.colaboratory.intrinsic+json": {
              "type": "string"
            }
          },
          "metadata": {},
          "execution_count": 46
        }
      ]
    },
    {
      "cell_type": "code",
      "source": [
        "hist=CHILE.history(period='max')\n",
        "hist.head()"
      ],
      "metadata": {
        "colab": {
          "base_uri": "https://localhost:8080/",
          "height": 238
        },
        "id": "q167G2oBBnhI",
        "outputId": "8f299146-6e22-44cb-fb00-5c03fcd31567"
      },
      "execution_count": 5,
      "outputs": [
        {
          "output_type": "execute_result",
          "data": {
            "text/plain": [
              "                                Open       High        Low      Close  \\\n",
              "Date                                                                    \n",
              "2008-01-02 00:00:00-03:00  16.903759  16.903759  16.477047  16.477047   \n",
              "2008-01-03 00:00:00-03:00  16.477045  16.582667  16.265801  16.392548   \n",
              "2008-01-04 00:00:00-03:00  16.392547  16.392547  16.054557  16.160179   \n",
              "2008-01-07 00:00:00-03:00  16.181302  16.206651  16.012307  16.054556   \n",
              "2008-01-08 00:00:00-03:00  16.054556  16.227776  16.054556  16.054556   \n",
              "\n",
              "                              Volume  Dividends  Stock Splits  \n",
              "Date                                                           \n",
              "2008-01-02 00:00:00-03:00  103887755        0.0           0.0  \n",
              "2008-01-03 00:00:00-03:00   34533343        0.0           0.0  \n",
              "2008-01-04 00:00:00-03:00   42583150        0.0           0.0  \n",
              "2008-01-07 00:00:00-03:00   36061655        0.0           0.0  \n",
              "2008-01-08 00:00:00-03:00   31888461        0.0           0.0  "
            ],
            "text/html": [
              "\n",
              "  <div id=\"df-41c293af-ef12-4694-b847-1006b2dc992b\" class=\"colab-df-container\">\n",
              "    <div>\n",
              "<style scoped>\n",
              "    .dataframe tbody tr th:only-of-type {\n",
              "        vertical-align: middle;\n",
              "    }\n",
              "\n",
              "    .dataframe tbody tr th {\n",
              "        vertical-align: top;\n",
              "    }\n",
              "\n",
              "    .dataframe thead th {\n",
              "        text-align: right;\n",
              "    }\n",
              "</style>\n",
              "<table border=\"1\" class=\"dataframe\">\n",
              "  <thead>\n",
              "    <tr style=\"text-align: right;\">\n",
              "      <th></th>\n",
              "      <th>Open</th>\n",
              "      <th>High</th>\n",
              "      <th>Low</th>\n",
              "      <th>Close</th>\n",
              "      <th>Volume</th>\n",
              "      <th>Dividends</th>\n",
              "      <th>Stock Splits</th>\n",
              "    </tr>\n",
              "    <tr>\n",
              "      <th>Date</th>\n",
              "      <th></th>\n",
              "      <th></th>\n",
              "      <th></th>\n",
              "      <th></th>\n",
              "      <th></th>\n",
              "      <th></th>\n",
              "      <th></th>\n",
              "    </tr>\n",
              "  </thead>\n",
              "  <tbody>\n",
              "    <tr>\n",
              "      <th>2008-01-02 00:00:00-03:00</th>\n",
              "      <td>16.903759</td>\n",
              "      <td>16.903759</td>\n",
              "      <td>16.477047</td>\n",
              "      <td>16.477047</td>\n",
              "      <td>103887755</td>\n",
              "      <td>0.0</td>\n",
              "      <td>0.0</td>\n",
              "    </tr>\n",
              "    <tr>\n",
              "      <th>2008-01-03 00:00:00-03:00</th>\n",
              "      <td>16.477045</td>\n",
              "      <td>16.582667</td>\n",
              "      <td>16.265801</td>\n",
              "      <td>16.392548</td>\n",
              "      <td>34533343</td>\n",
              "      <td>0.0</td>\n",
              "      <td>0.0</td>\n",
              "    </tr>\n",
              "    <tr>\n",
              "      <th>2008-01-04 00:00:00-03:00</th>\n",
              "      <td>16.392547</td>\n",
              "      <td>16.392547</td>\n",
              "      <td>16.054557</td>\n",
              "      <td>16.160179</td>\n",
              "      <td>42583150</td>\n",
              "      <td>0.0</td>\n",
              "      <td>0.0</td>\n",
              "    </tr>\n",
              "    <tr>\n",
              "      <th>2008-01-07 00:00:00-03:00</th>\n",
              "      <td>16.181302</td>\n",
              "      <td>16.206651</td>\n",
              "      <td>16.012307</td>\n",
              "      <td>16.054556</td>\n",
              "      <td>36061655</td>\n",
              "      <td>0.0</td>\n",
              "      <td>0.0</td>\n",
              "    </tr>\n",
              "    <tr>\n",
              "      <th>2008-01-08 00:00:00-03:00</th>\n",
              "      <td>16.054556</td>\n",
              "      <td>16.227776</td>\n",
              "      <td>16.054556</td>\n",
              "      <td>16.054556</td>\n",
              "      <td>31888461</td>\n",
              "      <td>0.0</td>\n",
              "      <td>0.0</td>\n",
              "    </tr>\n",
              "  </tbody>\n",
              "</table>\n",
              "</div>\n",
              "    <div class=\"colab-df-buttons\">\n",
              "\n",
              "  <div class=\"colab-df-container\">\n",
              "    <button class=\"colab-df-convert\" onclick=\"convertToInteractive('df-41c293af-ef12-4694-b847-1006b2dc992b')\"\n",
              "            title=\"Convert this dataframe to an interactive table.\"\n",
              "            style=\"display:none;\">\n",
              "\n",
              "  <svg xmlns=\"http://www.w3.org/2000/svg\" height=\"24px\" viewBox=\"0 -960 960 960\">\n",
              "    <path d=\"M120-120v-720h720v720H120Zm60-500h600v-160H180v160Zm220 220h160v-160H400v160Zm0 220h160v-160H400v160ZM180-400h160v-160H180v160Zm440 0h160v-160H620v160ZM180-180h160v-160H180v160Zm440 0h160v-160H620v160Z\"/>\n",
              "  </svg>\n",
              "    </button>\n",
              "\n",
              "  <style>\n",
              "    .colab-df-container {\n",
              "      display:flex;\n",
              "      gap: 12px;\n",
              "    }\n",
              "\n",
              "    .colab-df-convert {\n",
              "      background-color: #E8F0FE;\n",
              "      border: none;\n",
              "      border-radius: 50%;\n",
              "      cursor: pointer;\n",
              "      display: none;\n",
              "      fill: #1967D2;\n",
              "      height: 32px;\n",
              "      padding: 0 0 0 0;\n",
              "      width: 32px;\n",
              "    }\n",
              "\n",
              "    .colab-df-convert:hover {\n",
              "      background-color: #E2EBFA;\n",
              "      box-shadow: 0px 1px 2px rgba(60, 64, 67, 0.3), 0px 1px 3px 1px rgba(60, 64, 67, 0.15);\n",
              "      fill: #174EA6;\n",
              "    }\n",
              "\n",
              "    .colab-df-buttons div {\n",
              "      margin-bottom: 4px;\n",
              "    }\n",
              "\n",
              "    [theme=dark] .colab-df-convert {\n",
              "      background-color: #3B4455;\n",
              "      fill: #D2E3FC;\n",
              "    }\n",
              "\n",
              "    [theme=dark] .colab-df-convert:hover {\n",
              "      background-color: #434B5C;\n",
              "      box-shadow: 0px 1px 3px 1px rgba(0, 0, 0, 0.15);\n",
              "      filter: drop-shadow(0px 1px 2px rgba(0, 0, 0, 0.3));\n",
              "      fill: #FFFFFF;\n",
              "    }\n",
              "  </style>\n",
              "\n",
              "    <script>\n",
              "      const buttonEl =\n",
              "        document.querySelector('#df-41c293af-ef12-4694-b847-1006b2dc992b button.colab-df-convert');\n",
              "      buttonEl.style.display =\n",
              "        google.colab.kernel.accessAllowed ? 'block' : 'none';\n",
              "\n",
              "      async function convertToInteractive(key) {\n",
              "        const element = document.querySelector('#df-41c293af-ef12-4694-b847-1006b2dc992b');\n",
              "        const dataTable =\n",
              "          await google.colab.kernel.invokeFunction('convertToInteractive',\n",
              "                                                    [key], {});\n",
              "        if (!dataTable) return;\n",
              "\n",
              "        const docLinkHtml = 'Like what you see? Visit the ' +\n",
              "          '<a target=\"_blank\" href=https://colab.research.google.com/notebooks/data_table.ipynb>data table notebook</a>'\n",
              "          + ' to learn more about interactive tables.';\n",
              "        element.innerHTML = '';\n",
              "        dataTable['output_type'] = 'display_data';\n",
              "        await google.colab.output.renderOutput(dataTable, element);\n",
              "        const docLink = document.createElement('div');\n",
              "        docLink.innerHTML = docLinkHtml;\n",
              "        element.appendChild(docLink);\n",
              "      }\n",
              "    </script>\n",
              "  </div>\n",
              "\n",
              "\n",
              "<div id=\"df-f0a1ee84-373a-4a3d-84c3-0d6e1c2a6b23\">\n",
              "  <button class=\"colab-df-quickchart\" onclick=\"quickchart('df-f0a1ee84-373a-4a3d-84c3-0d6e1c2a6b23')\"\n",
              "            title=\"Suggest charts\"\n",
              "            style=\"display:none;\">\n",
              "\n",
              "<svg xmlns=\"http://www.w3.org/2000/svg\" height=\"24px\"viewBox=\"0 0 24 24\"\n",
              "     width=\"24px\">\n",
              "    <g>\n",
              "        <path d=\"M19 3H5c-1.1 0-2 .9-2 2v14c0 1.1.9 2 2 2h14c1.1 0 2-.9 2-2V5c0-1.1-.9-2-2-2zM9 17H7v-7h2v7zm4 0h-2V7h2v10zm4 0h-2v-4h2v4z\"/>\n",
              "    </g>\n",
              "</svg>\n",
              "  </button>\n",
              "\n",
              "<style>\n",
              "  .colab-df-quickchart {\n",
              "      --bg-color: #E8F0FE;\n",
              "      --fill-color: #1967D2;\n",
              "      --hover-bg-color: #E2EBFA;\n",
              "      --hover-fill-color: #174EA6;\n",
              "      --disabled-fill-color: #AAA;\n",
              "      --disabled-bg-color: #DDD;\n",
              "  }\n",
              "\n",
              "  [theme=dark] .colab-df-quickchart {\n",
              "      --bg-color: #3B4455;\n",
              "      --fill-color: #D2E3FC;\n",
              "      --hover-bg-color: #434B5C;\n",
              "      --hover-fill-color: #FFFFFF;\n",
              "      --disabled-bg-color: #3B4455;\n",
              "      --disabled-fill-color: #666;\n",
              "  }\n",
              "\n",
              "  .colab-df-quickchart {\n",
              "    background-color: var(--bg-color);\n",
              "    border: none;\n",
              "    border-radius: 50%;\n",
              "    cursor: pointer;\n",
              "    display: none;\n",
              "    fill: var(--fill-color);\n",
              "    height: 32px;\n",
              "    padding: 0;\n",
              "    width: 32px;\n",
              "  }\n",
              "\n",
              "  .colab-df-quickchart:hover {\n",
              "    background-color: var(--hover-bg-color);\n",
              "    box-shadow: 0 1px 2px rgba(60, 64, 67, 0.3), 0 1px 3px 1px rgba(60, 64, 67, 0.15);\n",
              "    fill: var(--button-hover-fill-color);\n",
              "  }\n",
              "\n",
              "  .colab-df-quickchart-complete:disabled,\n",
              "  .colab-df-quickchart-complete:disabled:hover {\n",
              "    background-color: var(--disabled-bg-color);\n",
              "    fill: var(--disabled-fill-color);\n",
              "    box-shadow: none;\n",
              "  }\n",
              "\n",
              "  .colab-df-spinner {\n",
              "    border: 2px solid var(--fill-color);\n",
              "    border-color: transparent;\n",
              "    border-bottom-color: var(--fill-color);\n",
              "    animation:\n",
              "      spin 1s steps(1) infinite;\n",
              "  }\n",
              "\n",
              "  @keyframes spin {\n",
              "    0% {\n",
              "      border-color: transparent;\n",
              "      border-bottom-color: var(--fill-color);\n",
              "      border-left-color: var(--fill-color);\n",
              "    }\n",
              "    20% {\n",
              "      border-color: transparent;\n",
              "      border-left-color: var(--fill-color);\n",
              "      border-top-color: var(--fill-color);\n",
              "    }\n",
              "    30% {\n",
              "      border-color: transparent;\n",
              "      border-left-color: var(--fill-color);\n",
              "      border-top-color: var(--fill-color);\n",
              "      border-right-color: var(--fill-color);\n",
              "    }\n",
              "    40% {\n",
              "      border-color: transparent;\n",
              "      border-right-color: var(--fill-color);\n",
              "      border-top-color: var(--fill-color);\n",
              "    }\n",
              "    60% {\n",
              "      border-color: transparent;\n",
              "      border-right-color: var(--fill-color);\n",
              "    }\n",
              "    80% {\n",
              "      border-color: transparent;\n",
              "      border-right-color: var(--fill-color);\n",
              "      border-bottom-color: var(--fill-color);\n",
              "    }\n",
              "    90% {\n",
              "      border-color: transparent;\n",
              "      border-bottom-color: var(--fill-color);\n",
              "    }\n",
              "  }\n",
              "</style>\n",
              "\n",
              "  <script>\n",
              "    async function quickchart(key) {\n",
              "      const quickchartButtonEl =\n",
              "        document.querySelector('#' + key + ' button');\n",
              "      quickchartButtonEl.disabled = true;  // To prevent multiple clicks.\n",
              "      quickchartButtonEl.classList.add('colab-df-spinner');\n",
              "      try {\n",
              "        const charts = await google.colab.kernel.invokeFunction(\n",
              "            'suggestCharts', [key], {});\n",
              "      } catch (error) {\n",
              "        console.error('Error during call to suggestCharts:', error);\n",
              "      }\n",
              "      quickchartButtonEl.classList.remove('colab-df-spinner');\n",
              "      quickchartButtonEl.classList.add('colab-df-quickchart-complete');\n",
              "    }\n",
              "    (() => {\n",
              "      let quickchartButtonEl =\n",
              "        document.querySelector('#df-f0a1ee84-373a-4a3d-84c3-0d6e1c2a6b23 button');\n",
              "      quickchartButtonEl.style.display =\n",
              "        google.colab.kernel.accessAllowed ? 'block' : 'none';\n",
              "    })();\n",
              "  </script>\n",
              "</div>\n",
              "\n",
              "    </div>\n",
              "  </div>\n"
            ],
            "application/vnd.google.colaboratory.intrinsic+json": {
              "type": "dataframe",
              "variable_name": "hist",
              "summary": "{\n  \"name\": \"hist\",\n  \"rows\": 4239,\n  \"fields\": [\n    {\n      \"column\": \"Date\",\n      \"properties\": {\n        \"dtype\": \"date\",\n        \"min\": \"2008-01-02 00:00:00-03:00\",\n        \"max\": \"2024-12-18 00:00:00-03:00\",\n        \"num_unique_values\": 4239,\n        \"samples\": [\n          \"2020-10-01 00:00:00-03:00\",\n          \"2011-01-06 00:00:00-03:00\",\n          \"2021-01-22 00:00:00-03:00\"\n        ],\n        \"semantic_type\": \"\",\n        \"description\": \"\"\n      }\n    },\n    {\n      \"column\": \"Open\",\n      \"properties\": {\n        \"dtype\": \"number\",\n        \"std\": 25.30591927868756,\n        \"min\": 11.829673142117391,\n        \"max\": 117.88999938964844,\n        \"num_unique_values\": 3805,\n        \"samples\": [\n          45.55776606313127,\n          24.118953505205425,\n          19.626630347652636\n        ],\n        \"semantic_type\": \"\",\n        \"description\": \"\"\n      }\n    },\n    {\n      \"column\": \"High\",\n      \"properties\": {\n        \"dtype\": \"number\",\n        \"std\": 25.53129308209993,\n        \"min\": 12.890117854691582,\n        \"max\": 118.0,\n        \"num_unique_values\": 4032,\n        \"samples\": [\n          32.13098154683484,\n          31.549873873230954,\n          30.525952738541427\n        ],\n        \"semantic_type\": \"\",\n        \"description\": \"\"\n      }\n    },\n    {\n      \"column\": \"Low\",\n      \"properties\": {\n        \"dtype\": \"number\",\n        \"std\": 25.055229957761515,\n        \"min\": 10.773451960145817,\n        \"max\": 116.25,\n        \"num_unique_values\": 4049,\n        \"samples\": [\n          35.08532691134261,\n          15.843315818297574,\n          111.26000213623047\n        ],\n        \"semantic_type\": \"\",\n        \"description\": \"\"\n      }\n    },\n    {\n      \"column\": \"Close\",\n      \"properties\": {\n        \"dtype\": \"number\",\n        \"std\": 25.303183094903567,\n        \"min\": 11.026946067810059,\n        \"max\": 117.47000122070312,\n        \"num_unique_values\": 3453,\n        \"samples\": [\n          30.39946937561035,\n          16.371423721313477,\n          51.389862060546875\n        ],\n        \"semantic_type\": \"\",\n        \"description\": \"\"\n      }\n    },\n    {\n      \"column\": \"Volume\",\n      \"properties\": {\n        \"dtype\": \"number\",\n        \"std\": 77213311,\n        \"min\": 0,\n        \"max\": 2464511768,\n        \"num_unique_values\": 4191,\n        \"samples\": [\n          7367084,\n          34667965,\n          5350289\n        ],\n        \"semantic_type\": \"\",\n        \"description\": \"\"\n      }\n    },\n    {\n      \"column\": \"Dividends\",\n      \"properties\": {\n        \"dtype\": \"number\",\n        \"std\": 0.21520134515395933,\n        \"min\": 0.0,\n        \"max\": 8.582008,\n        \"num_unique_values\": 14,\n        \"samples\": [\n          3.527235,\n          2.180536,\n          0.0\n        ],\n        \"semantic_type\": \"\",\n        \"description\": \"\"\n      }\n    },\n    {\n      \"column\": \"Stock Splits\",\n      \"properties\": {\n        \"dtype\": \"number\",\n        \"std\": 0.04963354209381739,\n        \"min\": 0.0,\n        \"max\": 1.03233,\n        \"num_unique_values\": 10,\n        \"samples\": [\n          1.02658,\n          1.03233,\n          1.023125\n        ],\n        \"semantic_type\": \"\",\n        \"description\": \"\"\n      }\n    }\n  ]\n}"
            }
          },
          "metadata": {},
          "execution_count": 5
        }
      ]
    },
    {
      "cell_type": "code",
      "source": [
        "CHILE.quarterly_balance_sheet.head()"
      ],
      "metadata": {
        "colab": {
          "base_uri": "https://localhost:8080/",
          "height": 206
        },
        "id": "BHXpmn2oFlOZ",
        "outputId": "b7a5fef3-e9dd-4eb4-912a-f9b14c111c7e"
      },
      "execution_count": 6,
      "outputs": [
        {
          "output_type": "execute_result",
          "data": {
            "text/plain": [
              "                              2024-09-30        2024-06-30        2024-03-31  \\\n",
              "Ordinary Shares Number    101017081114.0    101017081114.0    101017081114.0   \n",
              "Share Issued              101017081114.0    101017081114.0    101017081114.0   \n",
              "Net Debt                 9346872000000.0   7758090000000.0   7380157000000.0   \n",
              "Total Debt              12081401000000.0  11067952000000.0  11096130000000.0   \n",
              "Tangible Book Value      5321336000000.0   5188779000000.0   5030668000000.0   \n",
              "\n",
              "                              2023-12-31        2023-09-30 2023-06-30  \\\n",
              "Ordinary Shares Number    101017081114.0    101017081114.0        NaN   \n",
              "Share Issued              101017081114.0    101017081114.0        NaN   \n",
              "Net Debt                 7492046000000.0   6898674000000.0        NaN   \n",
              "Total Debt              10473679000000.0  10598972000000.0        NaN   \n",
              "Tangible Book Value      5911329000000.0   4898586000000.0        NaN   \n",
              "\n",
              "                       2023-03-31  \n",
              "Ordinary Shares Number        NaN  \n",
              "Share Issued                  NaN  \n",
              "Net Debt                      NaN  \n",
              "Total Debt                    NaN  \n",
              "Tangible Book Value           NaN  "
            ],
            "text/html": [
              "\n",
              "  <div id=\"df-db75ff58-64e5-49e3-bdbe-b1b703584ab6\" class=\"colab-df-container\">\n",
              "    <div>\n",
              "<style scoped>\n",
              "    .dataframe tbody tr th:only-of-type {\n",
              "        vertical-align: middle;\n",
              "    }\n",
              "\n",
              "    .dataframe tbody tr th {\n",
              "        vertical-align: top;\n",
              "    }\n",
              "\n",
              "    .dataframe thead th {\n",
              "        text-align: right;\n",
              "    }\n",
              "</style>\n",
              "<table border=\"1\" class=\"dataframe\">\n",
              "  <thead>\n",
              "    <tr style=\"text-align: right;\">\n",
              "      <th></th>\n",
              "      <th>2024-09-30</th>\n",
              "      <th>2024-06-30</th>\n",
              "      <th>2024-03-31</th>\n",
              "      <th>2023-12-31</th>\n",
              "      <th>2023-09-30</th>\n",
              "      <th>2023-06-30</th>\n",
              "      <th>2023-03-31</th>\n",
              "    </tr>\n",
              "  </thead>\n",
              "  <tbody>\n",
              "    <tr>\n",
              "      <th>Ordinary Shares Number</th>\n",
              "      <td>101017081114.0</td>\n",
              "      <td>101017081114.0</td>\n",
              "      <td>101017081114.0</td>\n",
              "      <td>101017081114.0</td>\n",
              "      <td>101017081114.0</td>\n",
              "      <td>NaN</td>\n",
              "      <td>NaN</td>\n",
              "    </tr>\n",
              "    <tr>\n",
              "      <th>Share Issued</th>\n",
              "      <td>101017081114.0</td>\n",
              "      <td>101017081114.0</td>\n",
              "      <td>101017081114.0</td>\n",
              "      <td>101017081114.0</td>\n",
              "      <td>101017081114.0</td>\n",
              "      <td>NaN</td>\n",
              "      <td>NaN</td>\n",
              "    </tr>\n",
              "    <tr>\n",
              "      <th>Net Debt</th>\n",
              "      <td>9346872000000.0</td>\n",
              "      <td>7758090000000.0</td>\n",
              "      <td>7380157000000.0</td>\n",
              "      <td>7492046000000.0</td>\n",
              "      <td>6898674000000.0</td>\n",
              "      <td>NaN</td>\n",
              "      <td>NaN</td>\n",
              "    </tr>\n",
              "    <tr>\n",
              "      <th>Total Debt</th>\n",
              "      <td>12081401000000.0</td>\n",
              "      <td>11067952000000.0</td>\n",
              "      <td>11096130000000.0</td>\n",
              "      <td>10473679000000.0</td>\n",
              "      <td>10598972000000.0</td>\n",
              "      <td>NaN</td>\n",
              "      <td>NaN</td>\n",
              "    </tr>\n",
              "    <tr>\n",
              "      <th>Tangible Book Value</th>\n",
              "      <td>5321336000000.0</td>\n",
              "      <td>5188779000000.0</td>\n",
              "      <td>5030668000000.0</td>\n",
              "      <td>5911329000000.0</td>\n",
              "      <td>4898586000000.0</td>\n",
              "      <td>NaN</td>\n",
              "      <td>NaN</td>\n",
              "    </tr>\n",
              "  </tbody>\n",
              "</table>\n",
              "</div>\n",
              "    <div class=\"colab-df-buttons\">\n",
              "\n",
              "  <div class=\"colab-df-container\">\n",
              "    <button class=\"colab-df-convert\" onclick=\"convertToInteractive('df-db75ff58-64e5-49e3-bdbe-b1b703584ab6')\"\n",
              "            title=\"Convert this dataframe to an interactive table.\"\n",
              "            style=\"display:none;\">\n",
              "\n",
              "  <svg xmlns=\"http://www.w3.org/2000/svg\" height=\"24px\" viewBox=\"0 -960 960 960\">\n",
              "    <path d=\"M120-120v-720h720v720H120Zm60-500h600v-160H180v160Zm220 220h160v-160H400v160Zm0 220h160v-160H400v160ZM180-400h160v-160H180v160Zm440 0h160v-160H620v160ZM180-180h160v-160H180v160Zm440 0h160v-160H620v160Z\"/>\n",
              "  </svg>\n",
              "    </button>\n",
              "\n",
              "  <style>\n",
              "    .colab-df-container {\n",
              "      display:flex;\n",
              "      gap: 12px;\n",
              "    }\n",
              "\n",
              "    .colab-df-convert {\n",
              "      background-color: #E8F0FE;\n",
              "      border: none;\n",
              "      border-radius: 50%;\n",
              "      cursor: pointer;\n",
              "      display: none;\n",
              "      fill: #1967D2;\n",
              "      height: 32px;\n",
              "      padding: 0 0 0 0;\n",
              "      width: 32px;\n",
              "    }\n",
              "\n",
              "    .colab-df-convert:hover {\n",
              "      background-color: #E2EBFA;\n",
              "      box-shadow: 0px 1px 2px rgba(60, 64, 67, 0.3), 0px 1px 3px 1px rgba(60, 64, 67, 0.15);\n",
              "      fill: #174EA6;\n",
              "    }\n",
              "\n",
              "    .colab-df-buttons div {\n",
              "      margin-bottom: 4px;\n",
              "    }\n",
              "\n",
              "    [theme=dark] .colab-df-convert {\n",
              "      background-color: #3B4455;\n",
              "      fill: #D2E3FC;\n",
              "    }\n",
              "\n",
              "    [theme=dark] .colab-df-convert:hover {\n",
              "      background-color: #434B5C;\n",
              "      box-shadow: 0px 1px 3px 1px rgba(0, 0, 0, 0.15);\n",
              "      filter: drop-shadow(0px 1px 2px rgba(0, 0, 0, 0.3));\n",
              "      fill: #FFFFFF;\n",
              "    }\n",
              "  </style>\n",
              "\n",
              "    <script>\n",
              "      const buttonEl =\n",
              "        document.querySelector('#df-db75ff58-64e5-49e3-bdbe-b1b703584ab6 button.colab-df-convert');\n",
              "      buttonEl.style.display =\n",
              "        google.colab.kernel.accessAllowed ? 'block' : 'none';\n",
              "\n",
              "      async function convertToInteractive(key) {\n",
              "        const element = document.querySelector('#df-db75ff58-64e5-49e3-bdbe-b1b703584ab6');\n",
              "        const dataTable =\n",
              "          await google.colab.kernel.invokeFunction('convertToInteractive',\n",
              "                                                    [key], {});\n",
              "        if (!dataTable) return;\n",
              "\n",
              "        const docLinkHtml = 'Like what you see? Visit the ' +\n",
              "          '<a target=\"_blank\" href=https://colab.research.google.com/notebooks/data_table.ipynb>data table notebook</a>'\n",
              "          + ' to learn more about interactive tables.';\n",
              "        element.innerHTML = '';\n",
              "        dataTable['output_type'] = 'display_data';\n",
              "        await google.colab.output.renderOutput(dataTable, element);\n",
              "        const docLink = document.createElement('div');\n",
              "        docLink.innerHTML = docLinkHtml;\n",
              "        element.appendChild(docLink);\n",
              "      }\n",
              "    </script>\n",
              "  </div>\n",
              "\n",
              "\n",
              "<div id=\"df-28be4d16-59fe-4471-9ce9-cc9406ab0b69\">\n",
              "  <button class=\"colab-df-quickchart\" onclick=\"quickchart('df-28be4d16-59fe-4471-9ce9-cc9406ab0b69')\"\n",
              "            title=\"Suggest charts\"\n",
              "            style=\"display:none;\">\n",
              "\n",
              "<svg xmlns=\"http://www.w3.org/2000/svg\" height=\"24px\"viewBox=\"0 0 24 24\"\n",
              "     width=\"24px\">\n",
              "    <g>\n",
              "        <path d=\"M19 3H5c-1.1 0-2 .9-2 2v14c0 1.1.9 2 2 2h14c1.1 0 2-.9 2-2V5c0-1.1-.9-2-2-2zM9 17H7v-7h2v7zm4 0h-2V7h2v10zm4 0h-2v-4h2v4z\"/>\n",
              "    </g>\n",
              "</svg>\n",
              "  </button>\n",
              "\n",
              "<style>\n",
              "  .colab-df-quickchart {\n",
              "      --bg-color: #E8F0FE;\n",
              "      --fill-color: #1967D2;\n",
              "      --hover-bg-color: #E2EBFA;\n",
              "      --hover-fill-color: #174EA6;\n",
              "      --disabled-fill-color: #AAA;\n",
              "      --disabled-bg-color: #DDD;\n",
              "  }\n",
              "\n",
              "  [theme=dark] .colab-df-quickchart {\n",
              "      --bg-color: #3B4455;\n",
              "      --fill-color: #D2E3FC;\n",
              "      --hover-bg-color: #434B5C;\n",
              "      --hover-fill-color: #FFFFFF;\n",
              "      --disabled-bg-color: #3B4455;\n",
              "      --disabled-fill-color: #666;\n",
              "  }\n",
              "\n",
              "  .colab-df-quickchart {\n",
              "    background-color: var(--bg-color);\n",
              "    border: none;\n",
              "    border-radius: 50%;\n",
              "    cursor: pointer;\n",
              "    display: none;\n",
              "    fill: var(--fill-color);\n",
              "    height: 32px;\n",
              "    padding: 0;\n",
              "    width: 32px;\n",
              "  }\n",
              "\n",
              "  .colab-df-quickchart:hover {\n",
              "    background-color: var(--hover-bg-color);\n",
              "    box-shadow: 0 1px 2px rgba(60, 64, 67, 0.3), 0 1px 3px 1px rgba(60, 64, 67, 0.15);\n",
              "    fill: var(--button-hover-fill-color);\n",
              "  }\n",
              "\n",
              "  .colab-df-quickchart-complete:disabled,\n",
              "  .colab-df-quickchart-complete:disabled:hover {\n",
              "    background-color: var(--disabled-bg-color);\n",
              "    fill: var(--disabled-fill-color);\n",
              "    box-shadow: none;\n",
              "  }\n",
              "\n",
              "  .colab-df-spinner {\n",
              "    border: 2px solid var(--fill-color);\n",
              "    border-color: transparent;\n",
              "    border-bottom-color: var(--fill-color);\n",
              "    animation:\n",
              "      spin 1s steps(1) infinite;\n",
              "  }\n",
              "\n",
              "  @keyframes spin {\n",
              "    0% {\n",
              "      border-color: transparent;\n",
              "      border-bottom-color: var(--fill-color);\n",
              "      border-left-color: var(--fill-color);\n",
              "    }\n",
              "    20% {\n",
              "      border-color: transparent;\n",
              "      border-left-color: var(--fill-color);\n",
              "      border-top-color: var(--fill-color);\n",
              "    }\n",
              "    30% {\n",
              "      border-color: transparent;\n",
              "      border-left-color: var(--fill-color);\n",
              "      border-top-color: var(--fill-color);\n",
              "      border-right-color: var(--fill-color);\n",
              "    }\n",
              "    40% {\n",
              "      border-color: transparent;\n",
              "      border-right-color: var(--fill-color);\n",
              "      border-top-color: var(--fill-color);\n",
              "    }\n",
              "    60% {\n",
              "      border-color: transparent;\n",
              "      border-right-color: var(--fill-color);\n",
              "    }\n",
              "    80% {\n",
              "      border-color: transparent;\n",
              "      border-right-color: var(--fill-color);\n",
              "      border-bottom-color: var(--fill-color);\n",
              "    }\n",
              "    90% {\n",
              "      border-color: transparent;\n",
              "      border-bottom-color: var(--fill-color);\n",
              "    }\n",
              "  }\n",
              "</style>\n",
              "\n",
              "  <script>\n",
              "    async function quickchart(key) {\n",
              "      const quickchartButtonEl =\n",
              "        document.querySelector('#' + key + ' button');\n",
              "      quickchartButtonEl.disabled = true;  // To prevent multiple clicks.\n",
              "      quickchartButtonEl.classList.add('colab-df-spinner');\n",
              "      try {\n",
              "        const charts = await google.colab.kernel.invokeFunction(\n",
              "            'suggestCharts', [key], {});\n",
              "      } catch (error) {\n",
              "        console.error('Error during call to suggestCharts:', error);\n",
              "      }\n",
              "      quickchartButtonEl.classList.remove('colab-df-spinner');\n",
              "      quickchartButtonEl.classList.add('colab-df-quickchart-complete');\n",
              "    }\n",
              "    (() => {\n",
              "      let quickchartButtonEl =\n",
              "        document.querySelector('#df-28be4d16-59fe-4471-9ce9-cc9406ab0b69 button');\n",
              "      quickchartButtonEl.style.display =\n",
              "        google.colab.kernel.accessAllowed ? 'block' : 'none';\n",
              "    })();\n",
              "  </script>\n",
              "</div>\n",
              "\n",
              "    </div>\n",
              "  </div>\n"
            ],
            "application/vnd.google.colaboratory.intrinsic+json": {
              "type": "dataframe",
              "repr_error": "Out of range float values are not JSON compliant: nan"
            }
          },
          "metadata": {},
          "execution_count": 6
        }
      ]
    },
    {
      "cell_type": "code",
      "source": [
        "CHILE.quarterly_cashflow.head()"
      ],
      "metadata": {
        "colab": {
          "base_uri": "https://localhost:8080/",
          "height": 206
        },
        "id": "3t7VdxcTewc5",
        "outputId": "a3d0b6c0-27dc-4a7d-af75-fb2d8e33aa28"
      },
      "execution_count": 7,
      "outputs": [
        {
          "output_type": "execute_result",
          "data": {
            "text/plain": [
              "                                     2024-09-30      2024-06-30  \\\n",
              "Free Cash Flow                  -399036000000.0 -431346000000.0   \n",
              "Repayment Of Debt               -287315000000.0 -325523000000.0   \n",
              "Issuance Of Debt                 269382000000.0  208349000000.0   \n",
              "Capital Expenditure              -16953000000.0  -18577000000.0   \n",
              "Interest Paid Supplemental Data  198649000000.0  260068000000.0   \n",
              "\n",
              "                                     2024-03-31      2023-12-31  \\\n",
              "Free Cash Flow                  -106772000000.0   50461000000.0   \n",
              "Repayment Of Debt               -275211000000.0 -687884000000.0   \n",
              "Issuance Of Debt                 314872000000.0  287727000000.0   \n",
              "Capital Expenditure              -20200000000.0  -22862000000.0   \n",
              "Interest Paid Supplemental Data  282370000000.0  321133000000.0   \n",
              "\n",
              "                                      2023-09-30 2023-06-30  \n",
              "Free Cash Flow                   2105921000000.0        NaN  \n",
              "Repayment Of Debt                -552493000000.0        NaN  \n",
              "Issuance Of Debt                  239595000000.0        NaN  \n",
              "Capital Expenditure               -23433000000.0        NaN  \n",
              "Interest Paid Supplemental Data   249539000000.0        NaN  "
            ],
            "text/html": [
              "\n",
              "  <div id=\"df-a8b53b60-ba04-4445-8a8b-07338414bf94\" class=\"colab-df-container\">\n",
              "    <div>\n",
              "<style scoped>\n",
              "    .dataframe tbody tr th:only-of-type {\n",
              "        vertical-align: middle;\n",
              "    }\n",
              "\n",
              "    .dataframe tbody tr th {\n",
              "        vertical-align: top;\n",
              "    }\n",
              "\n",
              "    .dataframe thead th {\n",
              "        text-align: right;\n",
              "    }\n",
              "</style>\n",
              "<table border=\"1\" class=\"dataframe\">\n",
              "  <thead>\n",
              "    <tr style=\"text-align: right;\">\n",
              "      <th></th>\n",
              "      <th>2024-09-30</th>\n",
              "      <th>2024-06-30</th>\n",
              "      <th>2024-03-31</th>\n",
              "      <th>2023-12-31</th>\n",
              "      <th>2023-09-30</th>\n",
              "      <th>2023-06-30</th>\n",
              "    </tr>\n",
              "  </thead>\n",
              "  <tbody>\n",
              "    <tr>\n",
              "      <th>Free Cash Flow</th>\n",
              "      <td>-399036000000.0</td>\n",
              "      <td>-431346000000.0</td>\n",
              "      <td>-106772000000.0</td>\n",
              "      <td>50461000000.0</td>\n",
              "      <td>2105921000000.0</td>\n",
              "      <td>NaN</td>\n",
              "    </tr>\n",
              "    <tr>\n",
              "      <th>Repayment Of Debt</th>\n",
              "      <td>-287315000000.0</td>\n",
              "      <td>-325523000000.0</td>\n",
              "      <td>-275211000000.0</td>\n",
              "      <td>-687884000000.0</td>\n",
              "      <td>-552493000000.0</td>\n",
              "      <td>NaN</td>\n",
              "    </tr>\n",
              "    <tr>\n",
              "      <th>Issuance Of Debt</th>\n",
              "      <td>269382000000.0</td>\n",
              "      <td>208349000000.0</td>\n",
              "      <td>314872000000.0</td>\n",
              "      <td>287727000000.0</td>\n",
              "      <td>239595000000.0</td>\n",
              "      <td>NaN</td>\n",
              "    </tr>\n",
              "    <tr>\n",
              "      <th>Capital Expenditure</th>\n",
              "      <td>-16953000000.0</td>\n",
              "      <td>-18577000000.0</td>\n",
              "      <td>-20200000000.0</td>\n",
              "      <td>-22862000000.0</td>\n",
              "      <td>-23433000000.0</td>\n",
              "      <td>NaN</td>\n",
              "    </tr>\n",
              "    <tr>\n",
              "      <th>Interest Paid Supplemental Data</th>\n",
              "      <td>198649000000.0</td>\n",
              "      <td>260068000000.0</td>\n",
              "      <td>282370000000.0</td>\n",
              "      <td>321133000000.0</td>\n",
              "      <td>249539000000.0</td>\n",
              "      <td>NaN</td>\n",
              "    </tr>\n",
              "  </tbody>\n",
              "</table>\n",
              "</div>\n",
              "    <div class=\"colab-df-buttons\">\n",
              "\n",
              "  <div class=\"colab-df-container\">\n",
              "    <button class=\"colab-df-convert\" onclick=\"convertToInteractive('df-a8b53b60-ba04-4445-8a8b-07338414bf94')\"\n",
              "            title=\"Convert this dataframe to an interactive table.\"\n",
              "            style=\"display:none;\">\n",
              "\n",
              "  <svg xmlns=\"http://www.w3.org/2000/svg\" height=\"24px\" viewBox=\"0 -960 960 960\">\n",
              "    <path d=\"M120-120v-720h720v720H120Zm60-500h600v-160H180v160Zm220 220h160v-160H400v160Zm0 220h160v-160H400v160ZM180-400h160v-160H180v160Zm440 0h160v-160H620v160ZM180-180h160v-160H180v160Zm440 0h160v-160H620v160Z\"/>\n",
              "  </svg>\n",
              "    </button>\n",
              "\n",
              "  <style>\n",
              "    .colab-df-container {\n",
              "      display:flex;\n",
              "      gap: 12px;\n",
              "    }\n",
              "\n",
              "    .colab-df-convert {\n",
              "      background-color: #E8F0FE;\n",
              "      border: none;\n",
              "      border-radius: 50%;\n",
              "      cursor: pointer;\n",
              "      display: none;\n",
              "      fill: #1967D2;\n",
              "      height: 32px;\n",
              "      padding: 0 0 0 0;\n",
              "      width: 32px;\n",
              "    }\n",
              "\n",
              "    .colab-df-convert:hover {\n",
              "      background-color: #E2EBFA;\n",
              "      box-shadow: 0px 1px 2px rgba(60, 64, 67, 0.3), 0px 1px 3px 1px rgba(60, 64, 67, 0.15);\n",
              "      fill: #174EA6;\n",
              "    }\n",
              "\n",
              "    .colab-df-buttons div {\n",
              "      margin-bottom: 4px;\n",
              "    }\n",
              "\n",
              "    [theme=dark] .colab-df-convert {\n",
              "      background-color: #3B4455;\n",
              "      fill: #D2E3FC;\n",
              "    }\n",
              "\n",
              "    [theme=dark] .colab-df-convert:hover {\n",
              "      background-color: #434B5C;\n",
              "      box-shadow: 0px 1px 3px 1px rgba(0, 0, 0, 0.15);\n",
              "      filter: drop-shadow(0px 1px 2px rgba(0, 0, 0, 0.3));\n",
              "      fill: #FFFFFF;\n",
              "    }\n",
              "  </style>\n",
              "\n",
              "    <script>\n",
              "      const buttonEl =\n",
              "        document.querySelector('#df-a8b53b60-ba04-4445-8a8b-07338414bf94 button.colab-df-convert');\n",
              "      buttonEl.style.display =\n",
              "        google.colab.kernel.accessAllowed ? 'block' : 'none';\n",
              "\n",
              "      async function convertToInteractive(key) {\n",
              "        const element = document.querySelector('#df-a8b53b60-ba04-4445-8a8b-07338414bf94');\n",
              "        const dataTable =\n",
              "          await google.colab.kernel.invokeFunction('convertToInteractive',\n",
              "                                                    [key], {});\n",
              "        if (!dataTable) return;\n",
              "\n",
              "        const docLinkHtml = 'Like what you see? Visit the ' +\n",
              "          '<a target=\"_blank\" href=https://colab.research.google.com/notebooks/data_table.ipynb>data table notebook</a>'\n",
              "          + ' to learn more about interactive tables.';\n",
              "        element.innerHTML = '';\n",
              "        dataTable['output_type'] = 'display_data';\n",
              "        await google.colab.output.renderOutput(dataTable, element);\n",
              "        const docLink = document.createElement('div');\n",
              "        docLink.innerHTML = docLinkHtml;\n",
              "        element.appendChild(docLink);\n",
              "      }\n",
              "    </script>\n",
              "  </div>\n",
              "\n",
              "\n",
              "<div id=\"df-29f58e31-3df1-46f4-b777-4b1f16a4e673\">\n",
              "  <button class=\"colab-df-quickchart\" onclick=\"quickchart('df-29f58e31-3df1-46f4-b777-4b1f16a4e673')\"\n",
              "            title=\"Suggest charts\"\n",
              "            style=\"display:none;\">\n",
              "\n",
              "<svg xmlns=\"http://www.w3.org/2000/svg\" height=\"24px\"viewBox=\"0 0 24 24\"\n",
              "     width=\"24px\">\n",
              "    <g>\n",
              "        <path d=\"M19 3H5c-1.1 0-2 .9-2 2v14c0 1.1.9 2 2 2h14c1.1 0 2-.9 2-2V5c0-1.1-.9-2-2-2zM9 17H7v-7h2v7zm4 0h-2V7h2v10zm4 0h-2v-4h2v4z\"/>\n",
              "    </g>\n",
              "</svg>\n",
              "  </button>\n",
              "\n",
              "<style>\n",
              "  .colab-df-quickchart {\n",
              "      --bg-color: #E8F0FE;\n",
              "      --fill-color: #1967D2;\n",
              "      --hover-bg-color: #E2EBFA;\n",
              "      --hover-fill-color: #174EA6;\n",
              "      --disabled-fill-color: #AAA;\n",
              "      --disabled-bg-color: #DDD;\n",
              "  }\n",
              "\n",
              "  [theme=dark] .colab-df-quickchart {\n",
              "      --bg-color: #3B4455;\n",
              "      --fill-color: #D2E3FC;\n",
              "      --hover-bg-color: #434B5C;\n",
              "      --hover-fill-color: #FFFFFF;\n",
              "      --disabled-bg-color: #3B4455;\n",
              "      --disabled-fill-color: #666;\n",
              "  }\n",
              "\n",
              "  .colab-df-quickchart {\n",
              "    background-color: var(--bg-color);\n",
              "    border: none;\n",
              "    border-radius: 50%;\n",
              "    cursor: pointer;\n",
              "    display: none;\n",
              "    fill: var(--fill-color);\n",
              "    height: 32px;\n",
              "    padding: 0;\n",
              "    width: 32px;\n",
              "  }\n",
              "\n",
              "  .colab-df-quickchart:hover {\n",
              "    background-color: var(--hover-bg-color);\n",
              "    box-shadow: 0 1px 2px rgba(60, 64, 67, 0.3), 0 1px 3px 1px rgba(60, 64, 67, 0.15);\n",
              "    fill: var(--button-hover-fill-color);\n",
              "  }\n",
              "\n",
              "  .colab-df-quickchart-complete:disabled,\n",
              "  .colab-df-quickchart-complete:disabled:hover {\n",
              "    background-color: var(--disabled-bg-color);\n",
              "    fill: var(--disabled-fill-color);\n",
              "    box-shadow: none;\n",
              "  }\n",
              "\n",
              "  .colab-df-spinner {\n",
              "    border: 2px solid var(--fill-color);\n",
              "    border-color: transparent;\n",
              "    border-bottom-color: var(--fill-color);\n",
              "    animation:\n",
              "      spin 1s steps(1) infinite;\n",
              "  }\n",
              "\n",
              "  @keyframes spin {\n",
              "    0% {\n",
              "      border-color: transparent;\n",
              "      border-bottom-color: var(--fill-color);\n",
              "      border-left-color: var(--fill-color);\n",
              "    }\n",
              "    20% {\n",
              "      border-color: transparent;\n",
              "      border-left-color: var(--fill-color);\n",
              "      border-top-color: var(--fill-color);\n",
              "    }\n",
              "    30% {\n",
              "      border-color: transparent;\n",
              "      border-left-color: var(--fill-color);\n",
              "      border-top-color: var(--fill-color);\n",
              "      border-right-color: var(--fill-color);\n",
              "    }\n",
              "    40% {\n",
              "      border-color: transparent;\n",
              "      border-right-color: var(--fill-color);\n",
              "      border-top-color: var(--fill-color);\n",
              "    }\n",
              "    60% {\n",
              "      border-color: transparent;\n",
              "      border-right-color: var(--fill-color);\n",
              "    }\n",
              "    80% {\n",
              "      border-color: transparent;\n",
              "      border-right-color: var(--fill-color);\n",
              "      border-bottom-color: var(--fill-color);\n",
              "    }\n",
              "    90% {\n",
              "      border-color: transparent;\n",
              "      border-bottom-color: var(--fill-color);\n",
              "    }\n",
              "  }\n",
              "</style>\n",
              "\n",
              "  <script>\n",
              "    async function quickchart(key) {\n",
              "      const quickchartButtonEl =\n",
              "        document.querySelector('#' + key + ' button');\n",
              "      quickchartButtonEl.disabled = true;  // To prevent multiple clicks.\n",
              "      quickchartButtonEl.classList.add('colab-df-spinner');\n",
              "      try {\n",
              "        const charts = await google.colab.kernel.invokeFunction(\n",
              "            'suggestCharts', [key], {});\n",
              "      } catch (error) {\n",
              "        console.error('Error during call to suggestCharts:', error);\n",
              "      }\n",
              "      quickchartButtonEl.classList.remove('colab-df-spinner');\n",
              "      quickchartButtonEl.classList.add('colab-df-quickchart-complete');\n",
              "    }\n",
              "    (() => {\n",
              "      let quickchartButtonEl =\n",
              "        document.querySelector('#df-29f58e31-3df1-46f4-b777-4b1f16a4e673 button');\n",
              "      quickchartButtonEl.style.display =\n",
              "        google.colab.kernel.accessAllowed ? 'block' : 'none';\n",
              "    })();\n",
              "  </script>\n",
              "</div>\n",
              "\n",
              "    </div>\n",
              "  </div>\n"
            ],
            "application/vnd.google.colaboratory.intrinsic+json": {
              "type": "dataframe",
              "repr_error": "Out of range float values are not JSON compliant: nan"
            }
          },
          "metadata": {},
          "execution_count": 7
        }
      ]
    },
    {
      "cell_type": "code",
      "source": [
        "CHILE.quarterly_financials.head()"
      ],
      "metadata": {
        "colab": {
          "base_uri": "https://localhost:8080/",
          "height": 224
        },
        "id": "DHx4fCPVe3aL",
        "outputId": "62784823-9934-486c-a619-3998a2c0c700"
      },
      "execution_count": 8,
      "outputs": [
        {
          "output_type": "execute_result",
          "data": {
            "text/plain": [
              "                                                          2024-09-30  \\\n",
              "Tax Effect Of Unusual Items                        -131042712.439906   \n",
              "Tax Rate For Calcs                                          0.216242   \n",
              "Total Unusual Items                                     -606000000.0   \n",
              "Total Unusual Items Excluding Goodwill                  -606000000.0   \n",
              "Net Income From Continuing Operation Net Minori...    288071000000.0   \n",
              "\n",
              "                                                          2024-06-30  \\\n",
              "Tax Effect Of Unusual Items                        -438874921.255351   \n",
              "Tax Rate For Calcs                                          0.197425   \n",
              "Total Unusual Items                                    -2223000000.0   \n",
              "Total Unusual Items Excluding Goodwill                 -2223000000.0   \n",
              "Net Income From Continuing Operation Net Minori...    323600000000.0   \n",
              "\n",
              "                                                        2024-03-31  \\\n",
              "Tax Effect Of Unusual Items                            133206000.0   \n",
              "Tax Rate For Calcs                                          0.2235   \n",
              "Total Unusual Items                                    596000000.0   \n",
              "Total Unusual Items Excluding Goodwill                 596000000.0   \n",
              "Net Income From Continuing Operation Net Minori...  297655000000.0   \n",
              "\n",
              "                                                         2023-12-31  \\\n",
              "Tax Effect Of Unusual Items                         84268154.922001   \n",
              "Tax Rate For Calcs                                         0.132706   \n",
              "Total Unusual Items                                     635000000.0   \n",
              "Total Unusual Items Excluding Goodwill                  635000000.0   \n",
              "Net Income From Continuing Operation Net Minori...   515935000000.0   \n",
              "\n",
              "                                                         2023-09-30  \\\n",
              "Tax Effect Of Unusual Items                        -12773830.579805   \n",
              "Tax Rate For Calcs                                          0.26069   \n",
              "Total Unusual Items                                     -49000000.0   \n",
              "Total Unusual Items Excluding Goodwill                  -49000000.0   \n",
              "Net Income From Continuing Operation Net Minori...   259993000000.0   \n",
              "\n",
              "                                                   2023-06-30 2023-03-31  \n",
              "Tax Effect Of Unusual Items                               NaN        NaN  \n",
              "Tax Rate For Calcs                                        NaN        NaN  \n",
              "Total Unusual Items                                       NaN        NaN  \n",
              "Total Unusual Items Excluding Goodwill                    NaN        NaN  \n",
              "Net Income From Continuing Operation Net Minori...        NaN        NaN  "
            ],
            "text/html": [
              "\n",
              "  <div id=\"df-7f244150-493a-4e43-ab83-9b75decd1736\" class=\"colab-df-container\">\n",
              "    <div>\n",
              "<style scoped>\n",
              "    .dataframe tbody tr th:only-of-type {\n",
              "        vertical-align: middle;\n",
              "    }\n",
              "\n",
              "    .dataframe tbody tr th {\n",
              "        vertical-align: top;\n",
              "    }\n",
              "\n",
              "    .dataframe thead th {\n",
              "        text-align: right;\n",
              "    }\n",
              "</style>\n",
              "<table border=\"1\" class=\"dataframe\">\n",
              "  <thead>\n",
              "    <tr style=\"text-align: right;\">\n",
              "      <th></th>\n",
              "      <th>2024-09-30</th>\n",
              "      <th>2024-06-30</th>\n",
              "      <th>2024-03-31</th>\n",
              "      <th>2023-12-31</th>\n",
              "      <th>2023-09-30</th>\n",
              "      <th>2023-06-30</th>\n",
              "      <th>2023-03-31</th>\n",
              "    </tr>\n",
              "  </thead>\n",
              "  <tbody>\n",
              "    <tr>\n",
              "      <th>Tax Effect Of Unusual Items</th>\n",
              "      <td>-131042712.439906</td>\n",
              "      <td>-438874921.255351</td>\n",
              "      <td>133206000.0</td>\n",
              "      <td>84268154.922001</td>\n",
              "      <td>-12773830.579805</td>\n",
              "      <td>NaN</td>\n",
              "      <td>NaN</td>\n",
              "    </tr>\n",
              "    <tr>\n",
              "      <th>Tax Rate For Calcs</th>\n",
              "      <td>0.216242</td>\n",
              "      <td>0.197425</td>\n",
              "      <td>0.2235</td>\n",
              "      <td>0.132706</td>\n",
              "      <td>0.26069</td>\n",
              "      <td>NaN</td>\n",
              "      <td>NaN</td>\n",
              "    </tr>\n",
              "    <tr>\n",
              "      <th>Total Unusual Items</th>\n",
              "      <td>-606000000.0</td>\n",
              "      <td>-2223000000.0</td>\n",
              "      <td>596000000.0</td>\n",
              "      <td>635000000.0</td>\n",
              "      <td>-49000000.0</td>\n",
              "      <td>NaN</td>\n",
              "      <td>NaN</td>\n",
              "    </tr>\n",
              "    <tr>\n",
              "      <th>Total Unusual Items Excluding Goodwill</th>\n",
              "      <td>-606000000.0</td>\n",
              "      <td>-2223000000.0</td>\n",
              "      <td>596000000.0</td>\n",
              "      <td>635000000.0</td>\n",
              "      <td>-49000000.0</td>\n",
              "      <td>NaN</td>\n",
              "      <td>NaN</td>\n",
              "    </tr>\n",
              "    <tr>\n",
              "      <th>Net Income From Continuing Operation Net Minority Interest</th>\n",
              "      <td>288071000000.0</td>\n",
              "      <td>323600000000.0</td>\n",
              "      <td>297655000000.0</td>\n",
              "      <td>515935000000.0</td>\n",
              "      <td>259993000000.0</td>\n",
              "      <td>NaN</td>\n",
              "      <td>NaN</td>\n",
              "    </tr>\n",
              "  </tbody>\n",
              "</table>\n",
              "</div>\n",
              "    <div class=\"colab-df-buttons\">\n",
              "\n",
              "  <div class=\"colab-df-container\">\n",
              "    <button class=\"colab-df-convert\" onclick=\"convertToInteractive('df-7f244150-493a-4e43-ab83-9b75decd1736')\"\n",
              "            title=\"Convert this dataframe to an interactive table.\"\n",
              "            style=\"display:none;\">\n",
              "\n",
              "  <svg xmlns=\"http://www.w3.org/2000/svg\" height=\"24px\" viewBox=\"0 -960 960 960\">\n",
              "    <path d=\"M120-120v-720h720v720H120Zm60-500h600v-160H180v160Zm220 220h160v-160H400v160Zm0 220h160v-160H400v160ZM180-400h160v-160H180v160Zm440 0h160v-160H620v160ZM180-180h160v-160H180v160Zm440 0h160v-160H620v160Z\"/>\n",
              "  </svg>\n",
              "    </button>\n",
              "\n",
              "  <style>\n",
              "    .colab-df-container {\n",
              "      display:flex;\n",
              "      gap: 12px;\n",
              "    }\n",
              "\n",
              "    .colab-df-convert {\n",
              "      background-color: #E8F0FE;\n",
              "      border: none;\n",
              "      border-radius: 50%;\n",
              "      cursor: pointer;\n",
              "      display: none;\n",
              "      fill: #1967D2;\n",
              "      height: 32px;\n",
              "      padding: 0 0 0 0;\n",
              "      width: 32px;\n",
              "    }\n",
              "\n",
              "    .colab-df-convert:hover {\n",
              "      background-color: #E2EBFA;\n",
              "      box-shadow: 0px 1px 2px rgba(60, 64, 67, 0.3), 0px 1px 3px 1px rgba(60, 64, 67, 0.15);\n",
              "      fill: #174EA6;\n",
              "    }\n",
              "\n",
              "    .colab-df-buttons div {\n",
              "      margin-bottom: 4px;\n",
              "    }\n",
              "\n",
              "    [theme=dark] .colab-df-convert {\n",
              "      background-color: #3B4455;\n",
              "      fill: #D2E3FC;\n",
              "    }\n",
              "\n",
              "    [theme=dark] .colab-df-convert:hover {\n",
              "      background-color: #434B5C;\n",
              "      box-shadow: 0px 1px 3px 1px rgba(0, 0, 0, 0.15);\n",
              "      filter: drop-shadow(0px 1px 2px rgba(0, 0, 0, 0.3));\n",
              "      fill: #FFFFFF;\n",
              "    }\n",
              "  </style>\n",
              "\n",
              "    <script>\n",
              "      const buttonEl =\n",
              "        document.querySelector('#df-7f244150-493a-4e43-ab83-9b75decd1736 button.colab-df-convert');\n",
              "      buttonEl.style.display =\n",
              "        google.colab.kernel.accessAllowed ? 'block' : 'none';\n",
              "\n",
              "      async function convertToInteractive(key) {\n",
              "        const element = document.querySelector('#df-7f244150-493a-4e43-ab83-9b75decd1736');\n",
              "        const dataTable =\n",
              "          await google.colab.kernel.invokeFunction('convertToInteractive',\n",
              "                                                    [key], {});\n",
              "        if (!dataTable) return;\n",
              "\n",
              "        const docLinkHtml = 'Like what you see? Visit the ' +\n",
              "          '<a target=\"_blank\" href=https://colab.research.google.com/notebooks/data_table.ipynb>data table notebook</a>'\n",
              "          + ' to learn more about interactive tables.';\n",
              "        element.innerHTML = '';\n",
              "        dataTable['output_type'] = 'display_data';\n",
              "        await google.colab.output.renderOutput(dataTable, element);\n",
              "        const docLink = document.createElement('div');\n",
              "        docLink.innerHTML = docLinkHtml;\n",
              "        element.appendChild(docLink);\n",
              "      }\n",
              "    </script>\n",
              "  </div>\n",
              "\n",
              "\n",
              "<div id=\"df-dae1ee03-8b42-4e17-88c2-2818c5c687dc\">\n",
              "  <button class=\"colab-df-quickchart\" onclick=\"quickchart('df-dae1ee03-8b42-4e17-88c2-2818c5c687dc')\"\n",
              "            title=\"Suggest charts\"\n",
              "            style=\"display:none;\">\n",
              "\n",
              "<svg xmlns=\"http://www.w3.org/2000/svg\" height=\"24px\"viewBox=\"0 0 24 24\"\n",
              "     width=\"24px\">\n",
              "    <g>\n",
              "        <path d=\"M19 3H5c-1.1 0-2 .9-2 2v14c0 1.1.9 2 2 2h14c1.1 0 2-.9 2-2V5c0-1.1-.9-2-2-2zM9 17H7v-7h2v7zm4 0h-2V7h2v10zm4 0h-2v-4h2v4z\"/>\n",
              "    </g>\n",
              "</svg>\n",
              "  </button>\n",
              "\n",
              "<style>\n",
              "  .colab-df-quickchart {\n",
              "      --bg-color: #E8F0FE;\n",
              "      --fill-color: #1967D2;\n",
              "      --hover-bg-color: #E2EBFA;\n",
              "      --hover-fill-color: #174EA6;\n",
              "      --disabled-fill-color: #AAA;\n",
              "      --disabled-bg-color: #DDD;\n",
              "  }\n",
              "\n",
              "  [theme=dark] .colab-df-quickchart {\n",
              "      --bg-color: #3B4455;\n",
              "      --fill-color: #D2E3FC;\n",
              "      --hover-bg-color: #434B5C;\n",
              "      --hover-fill-color: #FFFFFF;\n",
              "      --disabled-bg-color: #3B4455;\n",
              "      --disabled-fill-color: #666;\n",
              "  }\n",
              "\n",
              "  .colab-df-quickchart {\n",
              "    background-color: var(--bg-color);\n",
              "    border: none;\n",
              "    border-radius: 50%;\n",
              "    cursor: pointer;\n",
              "    display: none;\n",
              "    fill: var(--fill-color);\n",
              "    height: 32px;\n",
              "    padding: 0;\n",
              "    width: 32px;\n",
              "  }\n",
              "\n",
              "  .colab-df-quickchart:hover {\n",
              "    background-color: var(--hover-bg-color);\n",
              "    box-shadow: 0 1px 2px rgba(60, 64, 67, 0.3), 0 1px 3px 1px rgba(60, 64, 67, 0.15);\n",
              "    fill: var(--button-hover-fill-color);\n",
              "  }\n",
              "\n",
              "  .colab-df-quickchart-complete:disabled,\n",
              "  .colab-df-quickchart-complete:disabled:hover {\n",
              "    background-color: var(--disabled-bg-color);\n",
              "    fill: var(--disabled-fill-color);\n",
              "    box-shadow: none;\n",
              "  }\n",
              "\n",
              "  .colab-df-spinner {\n",
              "    border: 2px solid var(--fill-color);\n",
              "    border-color: transparent;\n",
              "    border-bottom-color: var(--fill-color);\n",
              "    animation:\n",
              "      spin 1s steps(1) infinite;\n",
              "  }\n",
              "\n",
              "  @keyframes spin {\n",
              "    0% {\n",
              "      border-color: transparent;\n",
              "      border-bottom-color: var(--fill-color);\n",
              "      border-left-color: var(--fill-color);\n",
              "    }\n",
              "    20% {\n",
              "      border-color: transparent;\n",
              "      border-left-color: var(--fill-color);\n",
              "      border-top-color: var(--fill-color);\n",
              "    }\n",
              "    30% {\n",
              "      border-color: transparent;\n",
              "      border-left-color: var(--fill-color);\n",
              "      border-top-color: var(--fill-color);\n",
              "      border-right-color: var(--fill-color);\n",
              "    }\n",
              "    40% {\n",
              "      border-color: transparent;\n",
              "      border-right-color: var(--fill-color);\n",
              "      border-top-color: var(--fill-color);\n",
              "    }\n",
              "    60% {\n",
              "      border-color: transparent;\n",
              "      border-right-color: var(--fill-color);\n",
              "    }\n",
              "    80% {\n",
              "      border-color: transparent;\n",
              "      border-right-color: var(--fill-color);\n",
              "      border-bottom-color: var(--fill-color);\n",
              "    }\n",
              "    90% {\n",
              "      border-color: transparent;\n",
              "      border-bottom-color: var(--fill-color);\n",
              "    }\n",
              "  }\n",
              "</style>\n",
              "\n",
              "  <script>\n",
              "    async function quickchart(key) {\n",
              "      const quickchartButtonEl =\n",
              "        document.querySelector('#' + key + ' button');\n",
              "      quickchartButtonEl.disabled = true;  // To prevent multiple clicks.\n",
              "      quickchartButtonEl.classList.add('colab-df-spinner');\n",
              "      try {\n",
              "        const charts = await google.colab.kernel.invokeFunction(\n",
              "            'suggestCharts', [key], {});\n",
              "      } catch (error) {\n",
              "        console.error('Error during call to suggestCharts:', error);\n",
              "      }\n",
              "      quickchartButtonEl.classList.remove('colab-df-spinner');\n",
              "      quickchartButtonEl.classList.add('colab-df-quickchart-complete');\n",
              "    }\n",
              "    (() => {\n",
              "      let quickchartButtonEl =\n",
              "        document.querySelector('#df-dae1ee03-8b42-4e17-88c2-2818c5c687dc button');\n",
              "      quickchartButtonEl.style.display =\n",
              "        google.colab.kernel.accessAllowed ? 'block' : 'none';\n",
              "    })();\n",
              "  </script>\n",
              "</div>\n",
              "\n",
              "    </div>\n",
              "  </div>\n"
            ],
            "application/vnd.google.colaboratory.intrinsic+json": {
              "type": "dataframe",
              "repr_error": "Out of range float values are not JSON compliant: nan"
            }
          },
          "metadata": {},
          "execution_count": 8
        }
      ]
    },
    {
      "cell_type": "code",
      "source": [
        "#hist.plot(kind='line', subplots=True)"
      ],
      "metadata": {
        "id": "VT3s5kgpFwJ4"
      },
      "execution_count": 9,
      "outputs": []
    },
    {
      "cell_type": "markdown",
      "source": [
        "**Obtención de Tickers del IPSA desde la Web**\n",
        "\n",
        "Para obtener la lista de empresas que componen el IPSA (Índice de Precios Selectivo de Acciones), se utilizará la información pública disponible en la Wikipedia. A través de la biblioteca Pandas, se extraerán las tablas contenidas en la página correspondiente al índice bursátil.\n",
        "\n",
        "El siguiente fragmento de código realiza esta tarea:\n",
        "\n"
      ],
      "metadata": {
        "id": "3HYMTyHVc8nv"
      }
    },
    {
      "cell_type": "code",
      "source": [
        "# Wikipedia URL for IPSA components\n",
        "url = 'https://es.wikipedia.org/wiki/%C3%8Dndice_de_Precio_Selectivo_de_Acciones'\n",
        "\n",
        "# Extract tables from the Wikipedia page\n",
        "tables = pd.read_html(url)\n",
        "\n",
        "# Display the first table (if it exists)\n",
        "print(tables[0])"
      ],
      "metadata": {
        "colab": {
          "base_uri": "https://localhost:8080/"
        },
        "id": "Uz8Cq8MCJVje",
        "outputId": "104366ae-0e61-4cb4-e745-57c0a6c9266d"
      },
      "execution_count": 10,
      "outputs": [
        {
          "output_type": "stream",
          "name": "stdout",
          "text": [
            "    N.º   Nemotécnico                             Empresa\n",
            "0     1       AGUAS-A                       Aguas Andinas\n",
            "1     2      ANDINA-B                Embotelladora Andina\n",
            "2     3           BCI      Banco de Crédito e Inversiones\n",
            "3     4    BSANTANDER               Banco Santander Chile\n",
            "4     5           CAP                                 CAP\n",
            "5     6           CCU      Compañía de Cervecerías Unidas\n",
            "6     7    CENCOSHOPP              Cencosud Shopping S.A.\n",
            "7     8      CENCOSUD                       Cencosud S.A.\n",
            "8     9         CHILE                      Banco de Chile\n",
            "9    10          CMPC                       Empresas CMPC\n",
            "10   11        COLBUN                              Colbún\n",
            "11   12    CONCHATORO                  Viña Concha y Toro\n",
            "12   13         COPEC                               Copec\n",
            "13   14           ECL                               Engie\n",
            "14   15        ENELAM                       Enel Américas\n",
            "15   16     ENELCHILE                          Enel Chile\n",
            "16   17         ENTEL                         Entel Chile\n",
            "17   18     FALABELLA                  S.A.C.I. Falabella\n",
            "18   19           IAM    Inversiones Aguas Metropolitanas\n",
            "19   20        ITAUCL                    Banco Itaú Chile\n",
            "20   21           LTM           Latam Airlines Group S.A.\n",
            "21   22     MALLPLAZA                          Plaza S.A.\n",
            "22   23  ORO%20BLANCO  Sociedad de Inversiones Oro Blanco\n",
            "23   24       PARAUCO                       Parque Arauco\n",
            "24   25      QUINENCO                        Quiñenco S.A\n",
            "25   26        RIPLEY                   Ripley Corp. S.A.\n",
            "26   27           SMU                            SMU S.A.\n",
            "27   28         SONDA                               Sonda\n",
            "28   29         SQM-B  Sociedad Química y Minera de Chile\n",
            "29   30       VAPORES    Compañía Sudamericana de Vapores\n"
          ]
        }
      ]
    },
    {
      "cell_type": "code",
      "source": [
        "df_idx=[i + '.SN' for i in tables[0]['Nemotécnico']]"
      ],
      "metadata": {
        "id": "dczADMsCZ3PN"
      },
      "execution_count": 11,
      "outputs": []
    },
    {
      "cell_type": "markdown",
      "source": [
        "Se validará el funcionamiento de los tickers proporcionados, identificando y filtrando aquellos que no retornan información válida."
      ],
      "metadata": {
        "id": "DRT4-8VTdLuO"
      }
    },
    {
      "cell_type": "code",
      "source": [
        "#check if the ticker are working\n",
        "\n",
        "def validate_tickers(ticker_list):\n",
        "    \"\"\"\n",
        "    Validate a list of tickers to check which ones are valid in yfinance.\n",
        "\n",
        "    Parameters:\n",
        "        ticker_list (list): List of tickers to validate.\n",
        "\n",
        "    Returns:\n",
        "        valid_tickers (list): A list of valid tickers.\n",
        "        invalid_tickers (list): A list of invalid tickers.\n",
        "    \"\"\"\n",
        "    valid_tickers = []\n",
        "    invalid_tickers = []\n",
        "\n",
        "    for ticker in ticker_list:\n",
        "        try:\n",
        "            # Attempt to fetch basic info for the ticker\n",
        "            stock = yf.Ticker(ticker)\n",
        "\n",
        "            # Try fetching a common piece of information like \"info\" or historical data\n",
        "            if stock.info.get(\"bookValue\") is None:\n",
        "                print(f\"Ticker {ticker} is invalid (no data in info).\")\n",
        "                invalid_tickers.append(ticker)\n",
        "            else:\n",
        "                #print(f\"Ticker {ticker} is valid.\")\n",
        "                valid_tickers.append(ticker)\n",
        "        except Exception as e:\n",
        "            # Handle specific errors like 404 Client Errors\n",
        "            print(f\"An error occurred with ticker {ticker}: {e}\")\n",
        "            invalid_tickers.append(ticker)\n",
        "\n",
        "    return valid_tickers, invalid_tickers\n"
      ],
      "metadata": {
        "id": "GFe8jdgQcrTM"
      },
      "execution_count": 12,
      "outputs": []
    },
    {
      "cell_type": "code",
      "source": [
        "#ticker list\n",
        "ticker_list = df_idx\n",
        "\n",
        "# Validate tickers\n",
        "valid_tickers, invalid_tickers = validate_tickers(ticker_list)\n",
        "\n",
        "print(\"\\nValid Tickers:\", valid_tickers)\n",
        "print(\"Invalid Tickers:\", invalid_tickers)"
      ],
      "metadata": {
        "colab": {
          "base_uri": "https://localhost:8080/"
        },
        "id": "L34OS486bg0P",
        "outputId": "97d566db-20fb-4d3c-9c3b-a68866844c73"
      },
      "execution_count": 13,
      "outputs": [
        {
          "output_type": "stream",
          "name": "stderr",
          "text": [
            "ERROR:yfinance:404 Client Error: Not Found for url: https://query2.finance.yahoo.com/v10/finance/quoteSummary/CENCOSHOPP.SN?modules=financialData%2CquoteType%2CdefaultKeyStatistics%2CassetProfile%2CsummaryDetail&corsDomain=finance.yahoo.com&formatted=false&symbol=CENCOSHOPP.SN&crumb=J89BP.4tLZT\n"
          ]
        },
        {
          "output_type": "stream",
          "name": "stdout",
          "text": [
            "Ticker CENCOSHOPP.SN is invalid (no data in info).\n",
            "Ticker ORO%20BLANCO.SN is invalid (no data in info).\n",
            "\n",
            "Valid Tickers: ['AGUAS-A.SN', 'ANDINA-B.SN', 'BCI.SN', 'BSANTANDER.SN', 'CAP.SN', 'CCU.SN', 'CENCOSUD.SN', 'CHILE.SN', 'CMPC.SN', 'COLBUN.SN', 'CONCHATORO.SN', 'COPEC.SN', 'ECL.SN', 'ENELAM.SN', 'ENELCHILE.SN', 'ENTEL.SN', 'FALABELLA.SN', 'IAM.SN', 'ITAUCL.SN', 'LTM.SN', 'MALLPLAZA.SN', 'PARAUCO.SN', 'QUINENCO.SN', 'RIPLEY.SN', 'SMU.SN', 'SONDA.SN', 'SQM-B.SN', 'VAPORES.SN']\n",
            "Invalid Tickers: ['CENCOSHOPP.SN', 'ORO%20BLANCO.SN']\n"
          ]
        }
      ]
    },
    {
      "cell_type": "markdown",
      "source": [
        "Veremos si el sector al que pertenecen puede ser relacionado con los grupos asociados"
      ],
      "metadata": {
        "id": "ufWMEQu0qSNc"
      }
    },
    {
      "cell_type": "code",
      "source": [
        "for i in valid_tickers:\n",
        "  stock = yf.Ticker(i)\n",
        "  print(stock.info.get(\"sector\") )"
      ],
      "metadata": {
        "colab": {
          "base_uri": "https://localhost:8080/"
        },
        "id": "LUl8BOfDpxEI",
        "outputId": "ef4652d5-f5db-4938-e04a-8979e5b3e1e3"
      },
      "execution_count": 53,
      "outputs": [
        {
          "output_type": "stream",
          "name": "stdout",
          "text": [
            "Utilitiesi\n",
            "Consumer Defensivei\n",
            "Financial Servicesi\n",
            "Financial Servicesi\n",
            "Basic Materialsi\n",
            "Consumer Defensivei\n",
            "Consumer Cyclicali\n",
            "Financial Servicesi\n",
            "Basic Materialsi\n",
            "Utilitiesi\n",
            "Consumer Defensivei\n",
            "Industrialsi\n",
            "Utilitiesi\n",
            "Utilitiesi\n",
            "Utilitiesi\n",
            "Communication Servicesi\n",
            "Consumer Cyclicali\n",
            "Utilitiesi\n",
            "Financial Servicesi\n",
            "Industrialsi\n",
            "Real Estatei\n",
            "Real Estatei\n",
            "Energyi\n",
            "Consumer Cyclicali\n",
            "Consumer Cyclicali\n",
            "Technologyi\n",
            "Basic Materialsi\n",
            "Industrialsi\n"
          ]
        }
      ]
    },
    {
      "cell_type": "code",
      "source": [
        "sectors = [yf.Ticker(i).info.get(\"sector\") for i in valid_tickers]"
      ],
      "metadata": {
        "colab": {
          "base_uri": "https://localhost:8080/"
        },
        "id": "GVpeTZLXqjro",
        "outputId": "4b9dccea-940c-486c-b372-f43619dc2e89"
      },
      "execution_count": 56,
      "outputs": [
        {
          "output_type": "execute_result",
          "data": {
            "text/plain": [
              "28"
            ]
          },
          "metadata": {},
          "execution_count": 56
        }
      ]
    },
    {
      "cell_type": "markdown",
      "source": [
        "De los tickers previamente filtrados, se obtendrá la información correspondiente a quarterly_financials, quarterly_cash_flow y quarterly_balance_sheet para los siguientes trimestres: ['2024-06-30', '2024-03-31', '2023-12-31', '2023-09-30']"
      ],
      "metadata": {
        "id": "C6xx0YBRdezA"
      }
    },
    {
      "cell_type": "code",
      "source": [
        "def process_ticker_data(df_idx, ticker_attr, columns_to_keep):\n",
        "    \"\"\"\n",
        "    Process ticker data based on the given attribute and append filtered data to a list.\n",
        "\n",
        "    Parameters:\n",
        "    - df_idx: List of ticker symbols.\n",
        "    - ticker_attr: The attribute to extract from the ticker object (e.g., 'quarterly_balance_sheet').\n",
        "    - columns_to_keep: List of column names to keep in the filtered DataFrame.\n",
        "\n",
        "    Returns:\n",
        "    - A list of filtered DataFrames for each ticker.\n",
        "    \"\"\"\n",
        "    result_list = []\n",
        "\n",
        "    # Iterate through a copy of df_idx to avoid modifying during iteration\n",
        "    for item in df_idx[:]:\n",
        "        try:\n",
        "            # Get the ticker data\n",
        "            l_ticker = yf.Ticker(item)\n",
        "\n",
        "            # Dynamically access the attribute (e.g., quarterly_balance_sheet, quarterly_financials)\n",
        "            quarterly_data = getattr(l_ticker, ticker_attr)\n",
        "\n",
        "            # Filter columns\n",
        "            filtered_df = quarterly_data[columns_to_keep]\n",
        "\n",
        "            # Append to result list\n",
        "            result_list.append(filtered_df)\n",
        "\n",
        "            print(f\"{item} columnas agregadas: {len(filtered_df.columns)}\")\n",
        "\n",
        "        except Exception as e:\n",
        "            # Remove problematic tickers and log the error\n",
        "            df_idx.remove(item)\n",
        "            print(f\"An error occurred in {item}: {e}\")\n",
        "            continue\n",
        "\n",
        "    return result_list\n",
        "\n",
        "#create list for quarterly_financials, quarterly_cash_flow,quarterly_balance_sheet\n",
        "l_q_fs=[]\n",
        "l_q_cf=[]\n",
        "l_q_bs=[]\n",
        "\n",
        "# Definir las columnas a mantener (fechas de trimestres)\n",
        "columns_to_keep = ['2024-06-30', '2024-03-31', '2023-12-31', '2023-09-30']\n",
        "\n",
        "# Process data for different ticker attributes\n",
        "print('quarterly_financials\\n')\n",
        "if len(valid_tickers) != len(l_q_fs):\n",
        "    l_q_fs = process_ticker_data(valid_tickers, 'quarterly_financials', columns_to_keep)\n",
        "\n",
        "print('\\nquarterly_cash_flow\\n')\n",
        "if len(valid_tickers) != len(l_q_cf):\n",
        "    l_q_cf = process_ticker_data(valid_tickers, 'quarterly_cash_flow', columns_to_keep)\n",
        "\n",
        "print('\\nquarterly_balance_sheet\\n')\n",
        "if len(valid_tickers) != len(l_q_bs):\n",
        "    l_q_bs = process_ticker_data(valid_tickers, 'quarterly_balance_sheet', columns_to_keep)\n"
      ],
      "metadata": {
        "colab": {
          "base_uri": "https://localhost:8080/"
        },
        "id": "Ne6MbJFwScqN",
        "outputId": "d9074453-9f44-46bf-e223-2b7ab99f0da1"
      },
      "execution_count": 14,
      "outputs": [
        {
          "output_type": "stream",
          "name": "stdout",
          "text": [
            "quarterly_financials\n",
            "\n",
            "AGUAS-A.SN columnas agregadas: 4\n",
            "ANDINA-B.SN columnas agregadas: 4\n",
            "BCI.SN columnas agregadas: 4\n",
            "BSANTANDER.SN columnas agregadas: 4\n",
            "CAP.SN columnas agregadas: 4\n",
            "CCU.SN columnas agregadas: 4\n",
            "CENCOSUD.SN columnas agregadas: 4\n",
            "CHILE.SN columnas agregadas: 4\n",
            "CMPC.SN columnas agregadas: 4\n",
            "COLBUN.SN columnas agregadas: 4\n",
            "CONCHATORO.SN columnas agregadas: 4\n",
            "COPEC.SN columnas agregadas: 4\n",
            "ECL.SN columnas agregadas: 4\n",
            "ENELAM.SN columnas agregadas: 4\n",
            "ENELCHILE.SN columnas agregadas: 4\n",
            "ENTEL.SN columnas agregadas: 4\n",
            "FALABELLA.SN columnas agregadas: 4\n",
            "IAM.SN columnas agregadas: 4\n",
            "ITAUCL.SN columnas agregadas: 4\n",
            "LTM.SN columnas agregadas: 4\n",
            "MALLPLAZA.SN columnas agregadas: 4\n",
            "PARAUCO.SN columnas agregadas: 4\n",
            "QUINENCO.SN columnas agregadas: 4\n",
            "RIPLEY.SN columnas agregadas: 4\n",
            "SMU.SN columnas agregadas: 4\n",
            "SONDA.SN columnas agregadas: 4\n",
            "SQM-B.SN columnas agregadas: 4\n",
            "VAPORES.SN columnas agregadas: 4\n",
            "\n",
            "quarterly_cash_flow\n",
            "\n",
            "AGUAS-A.SN columnas agregadas: 4\n",
            "ANDINA-B.SN columnas agregadas: 4\n",
            "BCI.SN columnas agregadas: 4\n",
            "BSANTANDER.SN columnas agregadas: 4\n",
            "CAP.SN columnas agregadas: 4\n",
            "CCU.SN columnas agregadas: 4\n",
            "CENCOSUD.SN columnas agregadas: 4\n",
            "CHILE.SN columnas agregadas: 4\n",
            "CMPC.SN columnas agregadas: 4\n",
            "COLBUN.SN columnas agregadas: 4\n",
            "CONCHATORO.SN columnas agregadas: 4\n",
            "COPEC.SN columnas agregadas: 4\n",
            "ECL.SN columnas agregadas: 4\n",
            "ENELAM.SN columnas agregadas: 4\n",
            "ENELCHILE.SN columnas agregadas: 4\n",
            "ENTEL.SN columnas agregadas: 4\n",
            "FALABELLA.SN columnas agregadas: 4\n",
            "IAM.SN columnas agregadas: 4\n",
            "ITAUCL.SN columnas agregadas: 4\n",
            "LTM.SN columnas agregadas: 4\n",
            "MALLPLAZA.SN columnas agregadas: 4\n",
            "PARAUCO.SN columnas agregadas: 4\n",
            "QUINENCO.SN columnas agregadas: 4\n",
            "RIPLEY.SN columnas agregadas: 4\n",
            "SMU.SN columnas agregadas: 4\n",
            "SONDA.SN columnas agregadas: 4\n",
            "SQM-B.SN columnas agregadas: 4\n",
            "VAPORES.SN columnas agregadas: 4\n",
            "\n",
            "quarterly_balance_sheet\n",
            "\n",
            "AGUAS-A.SN columnas agregadas: 4\n",
            "ANDINA-B.SN columnas agregadas: 4\n",
            "BCI.SN columnas agregadas: 4\n",
            "BSANTANDER.SN columnas agregadas: 4\n",
            "CAP.SN columnas agregadas: 4\n",
            "CCU.SN columnas agregadas: 4\n",
            "CENCOSUD.SN columnas agregadas: 4\n",
            "CHILE.SN columnas agregadas: 4\n",
            "CMPC.SN columnas agregadas: 4\n",
            "COLBUN.SN columnas agregadas: 4\n",
            "CONCHATORO.SN columnas agregadas: 4\n",
            "COPEC.SN columnas agregadas: 4\n",
            "ECL.SN columnas agregadas: 4\n",
            "ENELAM.SN columnas agregadas: 4\n",
            "ENELCHILE.SN columnas agregadas: 4\n",
            "ENTEL.SN columnas agregadas: 4\n",
            "FALABELLA.SN columnas agregadas: 4\n",
            "IAM.SN columnas agregadas: 4\n",
            "ITAUCL.SN columnas agregadas: 4\n",
            "LTM.SN columnas agregadas: 4\n",
            "MALLPLAZA.SN columnas agregadas: 4\n",
            "PARAUCO.SN columnas agregadas: 4\n",
            "QUINENCO.SN columnas agregadas: 4\n",
            "RIPLEY.SN columnas agregadas: 4\n",
            "SMU.SN columnas agregadas: 4\n",
            "SONDA.SN columnas agregadas: 4\n",
            "SQM-B.SN columnas agregadas: 4\n",
            "VAPORES.SN columnas agregadas: 4\n"
          ]
        }
      ]
    },
    {
      "cell_type": "markdown",
      "source": [
        "Se eliminarán las filas de los DataFrames que contengan únicamente valores NaN."
      ],
      "metadata": {
        "id": "W5wTMPeiVZpx"
      }
    },
    {
      "cell_type": "code",
      "source": [
        "#remove NaN in the df list\n",
        "\n",
        "def remove_nan_rows(dataframes_list):\n",
        "    \"\"\"\n",
        "    Removes rows that contain only NaN values from each DataFrame in a list.\n",
        "\n",
        "    Args:\n",
        "    - dataframes_list (list): List of DataFrames to process.\n",
        "\n",
        "    Returns:\n",
        "    - list: List of DataFrames with rows containing only NaN removed.\n",
        "    \"\"\"\n",
        "    updated_dataframes = []\n",
        "\n",
        "    for i, df in enumerate(dataframes_list):\n",
        "        try:\n",
        "            # Drop rows with all NaN values\n",
        "            df_cleaned = df.dropna(how=\"all\")\n",
        "            updated_dataframes.append(df_cleaned)\n",
        "        except Exception as e:\n",
        "            print(f\"An error occurred at iteration {i}: {e}\")\n",
        "            updated_dataframes.append(df)  # Preserve the original DataFrame in case of error\n",
        "\n",
        "    return updated_dataframes\n"
      ],
      "metadata": {
        "id": "hOfod6R35eCi"
      },
      "execution_count": 15,
      "outputs": []
    },
    {
      "cell_type": "code",
      "source": [
        "l_q_fs_cleaned = remove_nan_rows(l_q_fs)\n",
        "l_q_cf_cleaned = remove_nan_rows(l_q_cf)\n",
        "l_q_bs_cleaned = remove_nan_rows(l_q_bs)\n"
      ],
      "metadata": {
        "id": "Vi1INH-M5eJZ"
      },
      "execution_count": 16,
      "outputs": []
    },
    {
      "cell_type": "code",
      "source": [
        "#consolidar las listas\n",
        "\n",
        "# Consolidar las listas en una sola\n",
        "# Consolidar los DataFrames correspondientes de cada lista y conservar los índices originales\n",
        "lista_consolidada = [pd.concat([df1, df2, df3]) for df1, df2, df3 in zip(l_q_fs_cleaned, l_q_cf_cleaned, l_q_bs_cleaned)]\n"
      ],
      "metadata": {
        "id": "Wgn_Xxxn8rzO"
      },
      "execution_count": 17,
      "outputs": []
    },
    {
      "cell_type": "markdown",
      "source": [
        "Se homogeneizarán las muestras identificando y ordenando los índices más frecuentes en los DataFrames."
      ],
      "metadata": {
        "id": "Sz2Gkr3feFT-"
      }
    },
    {
      "cell_type": "code",
      "source": [
        "def contar_y_ordenar_indices(lista_dfs):\n",
        "    from collections import Counter\n",
        "\n",
        "    # Contador para acumular los índices de todos los DataFrames\n",
        "    contador_indices = Counter()\n",
        "\n",
        "    # Contar índices en cada DataFrame\n",
        "    for df in lista_dfs:\n",
        "        contador_indices.update(df.index)\n",
        "\n",
        "    # Ordenar el contador de mayor a menor\n",
        "    return dict(contador_indices.most_common())\n",
        "\n",
        "# Ejemplo de uso:\n",
        "# lista_consolidada = [df1, df2, df3, ...]\n",
        "repeticiones_indices = contar_y_ordenar_indices(lista_consolidada)\n",
        "\n",
        "# Ahora repeticiones_indices contiene el conteo total de cada índice, ordenado de mayor a menor\n"
      ],
      "metadata": {
        "id": "xNiCEJbxFg8_"
      },
      "execution_count": 18,
      "outputs": []
    },
    {
      "cell_type": "code",
      "source": [
        "repeticiones_indices = contar_y_ordenar_indices(lista_consolidada)\n",
        "# Obtener elementos donde el valor sea mayor a 20\n",
        "greater_than_20 = {k: v for k, v in repeticiones_indices.items() if v > 20}\n",
        "\n",
        "# Mostrar los resultados\n",
        "print(greater_than_20)"
      ],
      "metadata": {
        "colab": {
          "base_uri": "https://localhost:8080/"
        },
        "id": "sy5F17_3FKyP",
        "outputId": "6da6f5d6-373f-40d8-a5aa-2327f0900b16"
      },
      "execution_count": 19,
      "outputs": [
        {
          "output_type": "stream",
          "name": "stdout",
          "text": [
            "{'Tax Effect Of Unusual Items': 28, 'Tax Rate For Calcs': 28, 'Total Unusual Items': 28, 'Total Unusual Items Excluding Goodwill': 28, 'Net Income From Continuing Operation Net Minority Interest': 28, 'Net Interest Income': 28, 'Interest Expense': 28, 'Interest Income': 28, 'Normalized Income': 28, 'Net Income From Continuing And Discontinued Operation': 28, 'Diluted Average Shares': 28, 'Basic Average Shares': 28, 'Diluted EPS': 28, 'Basic EPS': 28, 'Diluted NI Availto Com Stockholders': 28, 'Net Income Common Stockholders': 28, 'Net Income': 28, 'Net Income Including Noncontrolling Interests': 28, 'Net Income Continuous Operations': 28, 'Tax Provision': 28, 'Pretax Income': 28, 'Special Income Charges': 28, 'Selling General And Administration': 28, 'General And Administrative Expense': 28, 'Total Revenue': 28, 'Operating Revenue': 28, 'Free Cash Flow': 28, 'Financing Cash Flow': 28, 'Investing Cash Flow': 28, 'Ordinary Shares Number': 28, 'Share Issued': 28, 'Total Debt': 28, 'Tangible Book Value': 28, 'Invested Capital': 28, 'Net Tangible Assets': 28, 'Common Stock Equity': 28, 'Total Capitalization': 28, 'Total Equity Gross Minority Interest': 28, 'Stockholders Equity': 28, 'Retained Earnings': 28, 'Capital Stock': 28, 'Common Stock': 28, 'Total Liabilities Net Minority Interest': 28, 'Long Term Debt And Capital Lease Obligation': 28, 'Payables': 28, 'Total Tax Payable': 28, 'Accounts Payable': 28, 'Total Assets': 28, 'Net PPE': 28, 'Accumulated Depreciation': 28, 'Gross PPE': 28, 'Other Properties': 28, 'Cash And Cash Equivalents': 28, 'Cash Financial': 28, 'Minority Interests': 27, 'Issuance Of Debt': 27, 'Capital Expenditure': 27, 'End Cash Position': 27, 'Beginning Cash Position': 27, 'Changes In Cash': 27, 'Net Issuance Payments Of Debt': 27, 'Net Long Term Debt Issuance': 27, 'Net PPE Purchase And Sale': 27, 'Purchase Of PPE': 27, 'Net Debt': 27, 'Capital Lease Obligations': 27, 'Minority Interest': 27, 'Long Term Capital Lease Obligation': 27, 'Goodwill And Other Intangible Assets': 27, 'Other Intangible Assets': 27, 'Accounts Receivable': 27, 'Operating Expense': 26, 'Other Operating Expenses': 26, 'Repayment Of Debt': 26, 'Effect Of Exchange Rate Changes': 26, 'Long Term Debt Payments': 26, 'Long Term Debt': 26, 'Current Debt And Capital Lease Obligation': 26, 'Other Payable': 26, 'Prepaid Assets': 26, 'Other Receivables': 26, 'Taxes Receivable': 26, 'Cash Equivalents': 26, 'Cash Dividends Paid': 25, 'Non Current Deferred Taxes Liabilities': 25, 'Current Capital Lease Obligation': 25, 'Current Debt': 25, 'Goodwill': 25, 'Buildings And Improvements': 25, 'Normalized EBITDA': 24, 'EBITDA': 24, 'EBIT': 24, 'Total Expenses': 24, 'Other Non Operating Income Expenses': 24, 'Other Special Charges': 24, 'Net Non Operating Interest Income Expense': 24, 'Interest Expense Non Operating': 24, 'Interest Income Non Operating': 24, 'Operating Income': 24, 'Long Term Debt Issuance': 24, 'Sale Of PPE': 24, 'Working Capital': 24, 'Total Non Current Liabilities Net Minority Interest': 24, 'Derivative Product Liabilities': 24, 'Current Liabilities': 24, 'Total Non Current Assets': 24, 'Non Current Deferred Taxes Assets': 24, 'Investmentin Financial Assets': 24, 'Machinery Furniture Equipment': 24, 'Current Assets': 24, 'Cash Cash Equivalents And Short Term Investments': 24, 'Other Short Term Investments': 24, 'Long Term Equity Investment': 24, 'Reconciled Cost Of Revenue': 23, 'Gross Profit': 23, 'Cost Of Revenue': 23, 'Net Short Term Debt Issuance': 23, 'Net Intangibles Purchase And Sale': 23, 'Long Term Provisions': 23, 'Current Provisions': 23, 'Dividends Payable': 23, 'Available For Sale Securities': 23, 'Land And Improvements': 23, 'Purchase Of Intangibles': 22, 'Cash Flowsfromusedin Operating Activities Direct': 22, 'Other Current Liabilities': 22, 'Other Non Current Assets': 22, 'Construction In Progress': 22, 'Total Operating Income As Reported': 21, 'Short Term Debt Issuance': 21, 'Classesof Cash Payments': 21, 'Classesof Cash Receiptsfrom Operating Activities': 21, 'Financial Assets': 21, 'Properties': 21, 'Other Current Assets': 21, 'Inventory': 21}\n"
          ]
        }
      ]
    },
    {
      "cell_type": "markdown",
      "source": [
        "Por el criterio de 'EBITDA' que se repite 24 veces es que haremos un filtro, mantendremos aquellos DataFrame que tengan ese criterio"
      ],
      "metadata": {
        "id": "vKI7qcALgX0D"
      }
    },
    {
      "cell_type": "code",
      "source": [
        "def filtrar_por_indice_y_posiciones(lista_dfs, indice):\n",
        "    # Inicializar listas para los DataFrames filtrados y las posiciones eliminadas\n",
        "    lista_filtrada = []\n",
        "    posiciones_eliminadas = []\n",
        "\n",
        "    # Recorrer los DataFrames con su índice en la lista\n",
        "    for i, df in enumerate(lista_dfs):\n",
        "        if indice in df.index:\n",
        "            lista_filtrada.append(df)\n",
        "        else:\n",
        "            posiciones_eliminadas.append(i)\n",
        "\n",
        "    return lista_filtrada, posiciones_eliminadas\n",
        "\n",
        "# Ejemplo de uso:\n",
        "# lista_consolidada = [df1, df2, df3, ...]\n",
        "lista_consolidada_filtrada, posiciones_eliminadas = filtrar_por_indice_y_posiciones(lista_consolidada, 'EBITDA')\n",
        "\n",
        "# Ahora:\n",
        "# - lista_consolidada_filtrada contiene solo los DataFrames cuyo índice contiene 'Dividends Payable'\n",
        "# - posiciones_eliminadas contiene las posiciones de los DataFrames que no cumplen la condición\n",
        "\n"
      ],
      "metadata": {
        "id": "qhdSe_jvCepX"
      },
      "execution_count": 20,
      "outputs": []
    },
    {
      "cell_type": "code",
      "source": [
        "#Caules son los ticker descartados\n",
        "for i in posiciones_eliminadas:\n",
        "  print(valid_tickers[i])"
      ],
      "metadata": {
        "colab": {
          "base_uri": "https://localhost:8080/"
        },
        "id": "AjJoNr8gVW-B",
        "outputId": "b11524e2-4ad8-4933-c5b3-bde8da5aacea"
      },
      "execution_count": 21,
      "outputs": [
        {
          "output_type": "stream",
          "name": "stdout",
          "text": [
            "BCI.SN\n",
            "BSANTANDER.SN\n",
            "CHILE.SN\n",
            "ITAUCL.SN\n"
          ]
        }
      ]
    },
    {
      "cell_type": "markdown",
      "source": [
        "Pero vemos que existe un desbalance en el shape de los df creados, algunos tienen indices que otros no"
      ],
      "metadata": {
        "id": "VyNjKRcUhIZX"
      }
    },
    {
      "cell_type": "code",
      "source": [
        "for i in lista_consolidada_filtrada:\n",
        "  print(i.shape)\n",
        "len(lista_consolidada_filtrada)"
      ],
      "metadata": {
        "colab": {
          "base_uri": "https://localhost:8080/"
        },
        "id": "PrKr-Pp0UkLz",
        "outputId": "421d99f4-aa68-4a86-99f2-b20977975d37"
      },
      "execution_count": 22,
      "outputs": [
        {
          "output_type": "stream",
          "name": "stdout",
          "text": [
            "(168, 4)\n",
            "(189, 4)\n",
            "(188, 4)\n",
            "(196, 4)\n",
            "(172, 4)\n",
            "(164, 4)\n",
            "(167, 4)\n",
            "(164, 4)\n",
            "(194, 4)\n",
            "(158, 4)\n",
            "(183, 4)\n",
            "(144, 4)\n",
            "(163, 4)\n",
            "(190, 4)\n",
            "(165, 4)\n",
            "(181, 4)\n",
            "(154, 4)\n",
            "(160, 4)\n",
            "(196, 4)\n",
            "(173, 4)\n",
            "(171, 4)\n",
            "(178, 4)\n",
            "(173, 4)\n",
            "(138, 4)\n"
          ]
        },
        {
          "output_type": "execute_result",
          "data": {
            "text/plain": [
              "24"
            ]
          },
          "metadata": {},
          "execution_count": 22
        }
      ]
    },
    {
      "cell_type": "markdown",
      "source": [
        "Filtrado de DataFrames para conservar únicamente las filas con índices comunes entre todos, asegurando una estructura homogénea"
      ],
      "metadata": {
        "id": "12CWViIchYLQ"
      }
    },
    {
      "cell_type": "code",
      "source": [
        "def conservar_filas_comunes_con_posiciones(lista_dfs):\n",
        "    if not lista_dfs:  # Verificar si la lista está vacía\n",
        "        return [], []\n",
        "\n",
        "    # Encontrar la intersección de índices entre todos los DataFrames\n",
        "    indices_comunes = set(lista_dfs[0].index)\n",
        "    for df in lista_dfs[1:]:\n",
        "        indices_comunes &= set(df.index)\n",
        "\n",
        "    # Convertir los índices comunes a una lista\n",
        "    indices_comunes = list(indices_comunes)\n",
        "\n",
        "    # Filtrar DataFrames que contienen todos los índices comunes\n",
        "    lista_filtrada = []\n",
        "    posiciones_eliminados = []\n",
        "\n",
        "    for i, df in enumerate(lista_dfs):\n",
        "        if all(idx in df.index for idx in indices_comunes):\n",
        "            lista_filtrada.append(df.loc[indices_comunes])\n",
        "        else:\n",
        "            posiciones_eliminados.append(i)\n",
        "\n",
        "    return lista_filtrada, posiciones_eliminados\n",
        "\n",
        "# Ejemplo de uso:\n",
        "# lista_consolidada = [df1, df2, df3, ...]\n",
        "lista_filtrada, posiciones_eliminados = conservar_filas_comunes_con_posiciones(lista_consolidada_filtrada)\n",
        "\n",
        "# Ahora 'lista_filtrada' tiene los DataFrames filtrados\n",
        "# Y 'posiciones_eliminados' tiene las posiciones de los DataFrames descartados"
      ],
      "metadata": {
        "id": "oDtw55O2Srta"
      },
      "execution_count": 23,
      "outputs": []
    },
    {
      "cell_type": "code",
      "source": [
        "posiciones_eliminados"
      ],
      "metadata": {
        "colab": {
          "base_uri": "https://localhost:8080/"
        },
        "id": "c7pLD88IT-wh",
        "outputId": "00255680-b527-4a29-fa97-16523ce8568b"
      },
      "execution_count": 24,
      "outputs": [
        {
          "output_type": "execute_result",
          "data": {
            "text/plain": [
              "[]"
            ]
          },
          "metadata": {},
          "execution_count": 24
        }
      ]
    },
    {
      "cell_type": "code",
      "source": [
        "for  i in lista_filtrada:\n",
        "  print(i.shape)\n",
        "print(len(lista_filtrada))"
      ],
      "metadata": {
        "colab": {
          "base_uri": "https://localhost:8080/"
        },
        "id": "_m0fZ8kiAP_w",
        "outputId": "91894087-d5f1-4f40-916e-99ae54eb922c"
      },
      "execution_count": 25,
      "outputs": [
        {
          "output_type": "stream",
          "name": "stdout",
          "text": [
            "(80, 4)\n",
            "(80, 4)\n",
            "(80, 4)\n",
            "(80, 4)\n",
            "(80, 4)\n",
            "(80, 4)\n",
            "(80, 4)\n",
            "(80, 4)\n",
            "(80, 4)\n",
            "(80, 4)\n",
            "(80, 4)\n",
            "(80, 4)\n",
            "(80, 4)\n",
            "(80, 4)\n",
            "(80, 4)\n",
            "(80, 4)\n",
            "(80, 4)\n",
            "(80, 4)\n",
            "(80, 4)\n",
            "(80, 4)\n",
            "(80, 4)\n",
            "(80, 4)\n",
            "(80, 4)\n",
            "(80, 4)\n",
            "24\n"
          ]
        }
      ]
    },
    {
      "cell_type": "markdown",
      "source": [
        "Tratamiento de NaN"
      ],
      "metadata": {
        "id": "tHPqCba7FEqZ"
      }
    },
    {
      "cell_type": "code",
      "source": [
        "def contar_nan_en_lista(lista_dfs):\n",
        "    resultados = []\n",
        "    for i, df in enumerate(lista_dfs):\n",
        "        # Contar los NaN en todo el DataFrame\n",
        "        num_nan = df.isna().sum().sum()\n",
        "        # Agregar el resultado a la lista como tupla: (posición, número de NaN)\n",
        "        resultados.append((i, num_nan))\n",
        "    return resultados\n",
        "\n",
        "resultados_nan = contar_nan_en_lista(lista_filtrada)\n",
        "\n",
        "# Ahora resultados_nan contiene las posiciones y el número de NaN en cada DataFrame\n",
        "resultados_nan\n"
      ],
      "metadata": {
        "id": "2PA76oA1uOtK",
        "colab": {
          "base_uri": "https://localhost:8080/"
        },
        "outputId": "c4393859-e41e-468c-d35c-447c247e462c"
      },
      "execution_count": 26,
      "outputs": [
        {
          "output_type": "execute_result",
          "data": {
            "text/plain": [
              "[(0, 4),\n",
              " (1, 1),\n",
              " (2, 4),\n",
              " (3, 0),\n",
              " (4, 0),\n",
              " (5, 4),\n",
              " (6, 8),\n",
              " (7, 4),\n",
              " (8, 4),\n",
              " (9, 7),\n",
              " (10, 8),\n",
              " (11, 72),\n",
              " (12, 4),\n",
              " (13, 4),\n",
              " (14, 4),\n",
              " (15, 6),\n",
              " (16, 9),\n",
              " (17, 4),\n",
              " (18, 4),\n",
              " (19, 4),\n",
              " (20, 4),\n",
              " (21, 4),\n",
              " (22, 4),\n",
              " (23, 15)]"
            ]
          },
          "metadata": {},
          "execution_count": 26
        }
      ]
    },
    {
      "cell_type": "code",
      "source": [
        "# Reemplazar los NaN con el promedio de la fila en cada DataFrame de la lista\n",
        "dfs_imputed = [df.apply(lambda row: row.fillna(row.mean()), axis=1) for df in lista_filtrada]"
      ],
      "metadata": {
        "colab": {
          "base_uri": "https://localhost:8080/"
        },
        "id": "HQ9f_PuPFPb0",
        "outputId": "1ab934d8-a437-47ca-ba84-a16ac6263c6f"
      },
      "execution_count": 27,
      "outputs": [
        {
          "output_type": "stream",
          "name": "stderr",
          "text": [
            "<ipython-input-27-c444c0cb7b1d>:2: FutureWarning: Downcasting object dtype arrays on .fillna, .ffill, .bfill is deprecated and will change in a future version. Call result.infer_objects(copy=False) instead. To opt-in to the future behavior, set `pd.set_option('future.no_silent_downcasting', True)`\n",
            "  dfs_imputed = [df.apply(lambda row: row.fillna(row.mean()), axis=1) for df in lista_filtrada]\n",
            "<ipython-input-27-c444c0cb7b1d>:2: FutureWarning: Downcasting object dtype arrays on .fillna, .ffill, .bfill is deprecated and will change in a future version. Call result.infer_objects(copy=False) instead. To opt-in to the future behavior, set `pd.set_option('future.no_silent_downcasting', True)`\n",
            "  dfs_imputed = [df.apply(lambda row: row.fillna(row.mean()), axis=1) for df in lista_filtrada]\n",
            "<ipython-input-27-c444c0cb7b1d>:2: FutureWarning: Downcasting object dtype arrays on .fillna, .ffill, .bfill is deprecated and will change in a future version. Call result.infer_objects(copy=False) instead. To opt-in to the future behavior, set `pd.set_option('future.no_silent_downcasting', True)`\n",
            "  dfs_imputed = [df.apply(lambda row: row.fillna(row.mean()), axis=1) for df in lista_filtrada]\n",
            "<ipython-input-27-c444c0cb7b1d>:2: FutureWarning: Downcasting object dtype arrays on .fillna, .ffill, .bfill is deprecated and will change in a future version. Call result.infer_objects(copy=False) instead. To opt-in to the future behavior, set `pd.set_option('future.no_silent_downcasting', True)`\n",
            "  dfs_imputed = [df.apply(lambda row: row.fillna(row.mean()), axis=1) for df in lista_filtrada]\n",
            "<ipython-input-27-c444c0cb7b1d>:2: FutureWarning: Downcasting object dtype arrays on .fillna, .ffill, .bfill is deprecated and will change in a future version. Call result.infer_objects(copy=False) instead. To opt-in to the future behavior, set `pd.set_option('future.no_silent_downcasting', True)`\n",
            "  dfs_imputed = [df.apply(lambda row: row.fillna(row.mean()), axis=1) for df in lista_filtrada]\n",
            "<ipython-input-27-c444c0cb7b1d>:2: FutureWarning: Downcasting object dtype arrays on .fillna, .ffill, .bfill is deprecated and will change in a future version. Call result.infer_objects(copy=False) instead. To opt-in to the future behavior, set `pd.set_option('future.no_silent_downcasting', True)`\n",
            "  dfs_imputed = [df.apply(lambda row: row.fillna(row.mean()), axis=1) for df in lista_filtrada]\n",
            "<ipython-input-27-c444c0cb7b1d>:2: FutureWarning: Downcasting object dtype arrays on .fillna, .ffill, .bfill is deprecated and will change in a future version. Call result.infer_objects(copy=False) instead. To opt-in to the future behavior, set `pd.set_option('future.no_silent_downcasting', True)`\n",
            "  dfs_imputed = [df.apply(lambda row: row.fillna(row.mean()), axis=1) for df in lista_filtrada]\n",
            "<ipython-input-27-c444c0cb7b1d>:2: FutureWarning: Downcasting object dtype arrays on .fillna, .ffill, .bfill is deprecated and will change in a future version. Call result.infer_objects(copy=False) instead. To opt-in to the future behavior, set `pd.set_option('future.no_silent_downcasting', True)`\n",
            "  dfs_imputed = [df.apply(lambda row: row.fillna(row.mean()), axis=1) for df in lista_filtrada]\n",
            "<ipython-input-27-c444c0cb7b1d>:2: FutureWarning: Downcasting object dtype arrays on .fillna, .ffill, .bfill is deprecated and will change in a future version. Call result.infer_objects(copy=False) instead. To opt-in to the future behavior, set `pd.set_option('future.no_silent_downcasting', True)`\n",
            "  dfs_imputed = [df.apply(lambda row: row.fillna(row.mean()), axis=1) for df in lista_filtrada]\n",
            "<ipython-input-27-c444c0cb7b1d>:2: FutureWarning: Downcasting object dtype arrays on .fillna, .ffill, .bfill is deprecated and will change in a future version. Call result.infer_objects(copy=False) instead. To opt-in to the future behavior, set `pd.set_option('future.no_silent_downcasting', True)`\n",
            "  dfs_imputed = [df.apply(lambda row: row.fillna(row.mean()), axis=1) for df in lista_filtrada]\n",
            "<ipython-input-27-c444c0cb7b1d>:2: FutureWarning: Downcasting object dtype arrays on .fillna, .ffill, .bfill is deprecated and will change in a future version. Call result.infer_objects(copy=False) instead. To opt-in to the future behavior, set `pd.set_option('future.no_silent_downcasting', True)`\n",
            "  dfs_imputed = [df.apply(lambda row: row.fillna(row.mean()), axis=1) for df in lista_filtrada]\n",
            "<ipython-input-27-c444c0cb7b1d>:2: FutureWarning: Downcasting object dtype arrays on .fillna, .ffill, .bfill is deprecated and will change in a future version. Call result.infer_objects(copy=False) instead. To opt-in to the future behavior, set `pd.set_option('future.no_silent_downcasting', True)`\n",
            "  dfs_imputed = [df.apply(lambda row: row.fillna(row.mean()), axis=1) for df in lista_filtrada]\n",
            "<ipython-input-27-c444c0cb7b1d>:2: FutureWarning: Downcasting object dtype arrays on .fillna, .ffill, .bfill is deprecated and will change in a future version. Call result.infer_objects(copy=False) instead. To opt-in to the future behavior, set `pd.set_option('future.no_silent_downcasting', True)`\n",
            "  dfs_imputed = [df.apply(lambda row: row.fillna(row.mean()), axis=1) for df in lista_filtrada]\n",
            "<ipython-input-27-c444c0cb7b1d>:2: FutureWarning: Downcasting object dtype arrays on .fillna, .ffill, .bfill is deprecated and will change in a future version. Call result.infer_objects(copy=False) instead. To opt-in to the future behavior, set `pd.set_option('future.no_silent_downcasting', True)`\n",
            "  dfs_imputed = [df.apply(lambda row: row.fillna(row.mean()), axis=1) for df in lista_filtrada]\n",
            "<ipython-input-27-c444c0cb7b1d>:2: FutureWarning: Downcasting object dtype arrays on .fillna, .ffill, .bfill is deprecated and will change in a future version. Call result.infer_objects(copy=False) instead. To opt-in to the future behavior, set `pd.set_option('future.no_silent_downcasting', True)`\n",
            "  dfs_imputed = [df.apply(lambda row: row.fillna(row.mean()), axis=1) for df in lista_filtrada]\n",
            "<ipython-input-27-c444c0cb7b1d>:2: FutureWarning: Downcasting object dtype arrays on .fillna, .ffill, .bfill is deprecated and will change in a future version. Call result.infer_objects(copy=False) instead. To opt-in to the future behavior, set `pd.set_option('future.no_silent_downcasting', True)`\n",
            "  dfs_imputed = [df.apply(lambda row: row.fillna(row.mean()), axis=1) for df in lista_filtrada]\n",
            "<ipython-input-27-c444c0cb7b1d>:2: FutureWarning: Downcasting object dtype arrays on .fillna, .ffill, .bfill is deprecated and will change in a future version. Call result.infer_objects(copy=False) instead. To opt-in to the future behavior, set `pd.set_option('future.no_silent_downcasting', True)`\n",
            "  dfs_imputed = [df.apply(lambda row: row.fillna(row.mean()), axis=1) for df in lista_filtrada]\n",
            "<ipython-input-27-c444c0cb7b1d>:2: FutureWarning: Downcasting object dtype arrays on .fillna, .ffill, .bfill is deprecated and will change in a future version. Call result.infer_objects(copy=False) instead. To opt-in to the future behavior, set `pd.set_option('future.no_silent_downcasting', True)`\n",
            "  dfs_imputed = [df.apply(lambda row: row.fillna(row.mean()), axis=1) for df in lista_filtrada]\n",
            "<ipython-input-27-c444c0cb7b1d>:2: FutureWarning: Downcasting object dtype arrays on .fillna, .ffill, .bfill is deprecated and will change in a future version. Call result.infer_objects(copy=False) instead. To opt-in to the future behavior, set `pd.set_option('future.no_silent_downcasting', True)`\n",
            "  dfs_imputed = [df.apply(lambda row: row.fillna(row.mean()), axis=1) for df in lista_filtrada]\n",
            "<ipython-input-27-c444c0cb7b1d>:2: FutureWarning: Downcasting object dtype arrays on .fillna, .ffill, .bfill is deprecated and will change in a future version. Call result.infer_objects(copy=False) instead. To opt-in to the future behavior, set `pd.set_option('future.no_silent_downcasting', True)`\n",
            "  dfs_imputed = [df.apply(lambda row: row.fillna(row.mean()), axis=1) for df in lista_filtrada]\n",
            "<ipython-input-27-c444c0cb7b1d>:2: FutureWarning: Downcasting object dtype arrays on .fillna, .ffill, .bfill is deprecated and will change in a future version. Call result.infer_objects(copy=False) instead. To opt-in to the future behavior, set `pd.set_option('future.no_silent_downcasting', True)`\n",
            "  dfs_imputed = [df.apply(lambda row: row.fillna(row.mean()), axis=1) for df in lista_filtrada]\n",
            "<ipython-input-27-c444c0cb7b1d>:2: FutureWarning: Downcasting object dtype arrays on .fillna, .ffill, .bfill is deprecated and will change in a future version. Call result.infer_objects(copy=False) instead. To opt-in to the future behavior, set `pd.set_option('future.no_silent_downcasting', True)`\n",
            "  dfs_imputed = [df.apply(lambda row: row.fillna(row.mean()), axis=1) for df in lista_filtrada]\n",
            "<ipython-input-27-c444c0cb7b1d>:2: FutureWarning: Downcasting object dtype arrays on .fillna, .ffill, .bfill is deprecated and will change in a future version. Call result.infer_objects(copy=False) instead. To opt-in to the future behavior, set `pd.set_option('future.no_silent_downcasting', True)`\n",
            "  dfs_imputed = [df.apply(lambda row: row.fillna(row.mean()), axis=1) for df in lista_filtrada]\n",
            "<ipython-input-27-c444c0cb7b1d>:2: FutureWarning: Downcasting object dtype arrays on .fillna, .ffill, .bfill is deprecated and will change in a future version. Call result.infer_objects(copy=False) instead. To opt-in to the future behavior, set `pd.set_option('future.no_silent_downcasting', True)`\n",
            "  dfs_imputed = [df.apply(lambda row: row.fillna(row.mean()), axis=1) for df in lista_filtrada]\n"
          ]
        }
      ]
    },
    {
      "cell_type": "code",
      "source": [
        "resultados_nan = contar_nan_en_lista(dfs_imputed)\n",
        "resultados_nan"
      ],
      "metadata": {
        "colab": {
          "base_uri": "https://localhost:8080/"
        },
        "id": "fiBsRnjwkMHn",
        "outputId": "4abeb2bb-8cb6-4574-af0b-69cc776864ac"
      },
      "execution_count": 28,
      "outputs": [
        {
          "output_type": "execute_result",
          "data": {
            "text/plain": [
              "[(0, 0),\n",
              " (1, 0),\n",
              " (2, 0),\n",
              " (3, 0),\n",
              " (4, 0),\n",
              " (5, 0),\n",
              " (6, 0),\n",
              " (7, 0),\n",
              " (8, 0),\n",
              " (9, 0),\n",
              " (10, 0),\n",
              " (11, 0),\n",
              " (12, 0),\n",
              " (13, 0),\n",
              " (14, 0),\n",
              " (15, 0),\n",
              " (16, 0),\n",
              " (17, 0),\n",
              " (18, 0),\n",
              " (19, 0),\n",
              " (20, 0),\n",
              " (21, 0),\n",
              " (22, 0),\n",
              " (23, 0)]"
            ]
          },
          "metadata": {},
          "execution_count": 28
        }
      ]
    },
    {
      "cell_type": "code",
      "source": [
        "# Transformar cada DataFrame en un solo DataFrame con una fila\n",
        "transformed_dfs = []\n",
        "for df in dfs_imputed:\n",
        "    # Crear las nuevas columnas combinando índices y columnas originales\n",
        "    new_columns = [f\"{row} {col}\" for row in df.index for col in df.columns]\n",
        "    # Aplanar el DataFrame en una sola fila\n",
        "    new_row = df.values.flatten()\n",
        "    # Crear el nuevo DataFrame con la fila transformada\n",
        "    transformed_dfs.append(pd.DataFrame([new_row], columns=new_columns))\n"
      ],
      "metadata": {
        "id": "dnafcF0te03Y"
      },
      "execution_count": 29,
      "outputs": []
    },
    {
      "cell_type": "code",
      "source": [
        "# Combinar todos los DataFrames transformados en uno solo\n",
        "combined_df = pd.concat(transformed_dfs, ignore_index=True)\n",
        "\n",
        "# Mostrar el DataFrame combinado\n",
        "print(combined_df.iloc[:, :2])\n",
        "print(combined_df.shape)"
      ],
      "metadata": {
        "colab": {
          "base_uri": "https://localhost:8080/"
        },
        "id": "w63HSencgjd8",
        "outputId": "37105afb-3d70-4378-ed1b-5c3a0c9fa480"
      },
      "execution_count": 35,
      "outputs": [
        {
          "output_type": "stream",
          "name": "stdout",
          "text": [
            "    Total Unusual Items Excluding Goodwill 2024-06-30 00:00:00  \\\n",
            "0                                       -3.088219e+09            \n",
            "1                                       -8.686983e+09            \n",
            "2                                       -3.164940e+08            \n",
            "3                                        2.429150e+10            \n",
            "4                                       -8.807976e+10            \n",
            "5                                        3.830900e+07            \n",
            "6                                       -5.485000e+06            \n",
            "7                                        4.541690e+09            \n",
            "8                                       -5.896000e+06            \n",
            "9                                        3.841000e+06            \n",
            "10                                       2.123000e+07            \n",
            "11                                      -2.823400e+10            \n",
            "12                                      -2.375777e+10            \n",
            "13                                       9.729484e+09            \n",
            "14                                      -1.620662e+10            \n",
            "15                                       4.745500e+07            \n",
            "16                                       3.020554e+09            \n",
            "17                                      -5.740440e+08            \n",
            "18                                      -3.862739e+10            \n",
            "19                                       2.293717e+09            \n",
            "20                                       5.489540e+08            \n",
            "21                                      -1.408699e+09            \n",
            "22                                       3.825000e+06            \n",
            "23                                       0.000000e+00            \n",
            "\n",
            "    Total Unusual Items Excluding Goodwill 2024-03-31 00:00:00  \n",
            "0                                       -6.021750e+08           \n",
            "1                                       -3.982890e+08           \n",
            "2                                        7.061000e+06           \n",
            "3                                       -7.297478e+09           \n",
            "4                                        1.319163e+11           \n",
            "5                                        1.008560e+08           \n",
            "6                                       -3.151000e+06           \n",
            "7                                        2.326570e+09           \n",
            "8                                       -3.662000e+06           \n",
            "9                                        2.260000e+05           \n",
            "10                                      -1.987700e+07           \n",
            "11                                       1.553700e+10           \n",
            "12                                      -2.238163e+10           \n",
            "13                                       7.880090e+08           \n",
            "14                                      -8.950275e+09           \n",
            "15                                       3.962700e+07           \n",
            "16                                       1.085423e+09           \n",
            "17                                       0.000000e+00           \n",
            "18                                      -1.968436e+10           \n",
            "19                                       4.801120e+08           \n",
            "20                                      -3.121570e+08           \n",
            "21                                       1.931680e+08           \n",
            "22                                      -1.328100e+07           \n",
            "23                                       0.000000e+00           \n",
            "(24, 320)\n"
          ]
        }
      ]
    },
    {
      "cell_type": "code",
      "source": [
        "from sklearn.cluster import KMeans\n",
        "from sklearn.preprocessing import StandardScaler\n",
        "\n",
        "wcss=[]\n",
        "for i in range(2,10):\n",
        "  kmeans = KMeans(n_clusters=i, init='k-means++', max_iter=300, n_init=10, random_state=10)\n",
        "  kmeans.fit(df_scaled)\n",
        "  wcss.append(kmeans.inertia_)\n",
        "\n",
        "#plot curva codo\n",
        "plt.plot(range(2,10), wcss, marker='o')\n",
        "plt.title('Elbow Method')\n",
        "plt.xlabel('N° Cluster')\n",
        "plt.ylabel('WCSS')\n",
        "plt.show()"
      ],
      "metadata": {
        "colab": {
          "base_uri": "https://localhost:8080/",
          "height": 472
        },
        "id": "kRO4EG5snQr9",
        "outputId": "5761f822-4ba3-469c-bb0d-b1a47b90e4b3"
      },
      "execution_count": 42,
      "outputs": [
        {
          "output_type": "display_data",
          "data": {
            "text/plain": [
              "<Figure size 640x480 with 1 Axes>"
            ],
            "image/png": "[encoded data removed]"
          },
          "metadata": {}
        }
      ]
    },
    {
      "cell_type": "code",
      "source": [
        "# Paso 1: Escalar los datos\n",
        "scaler = StandardScaler()\n",
        "df_scaled = scaler.fit_transform(combined_df)\n",
        "\n",
        "# Paso 2: Ejecutar K-Means\n",
        "n_clusters = 3  # Cambia el número de clústeres según tu análisis\n",
        "kmeans = KMeans(n_clusters=n_clusters, random_state=42)\n",
        "kmeans.fit(df_scaled)\n",
        "\n",
        "# Paso 3: Agregar las etiquetas al DataFrame original\n",
        "combined_df['Cluster'] = kmeans.labels_"
      ],
      "metadata": {
        "id": "pkTpybZQhfbC"
      },
      "execution_count": 78,
      "outputs": []
    },
    {
      "cell_type": "code",
      "source": [
        "# Crear una nueva lista sin las posiciones especificadas\n",
        "mi_lista_filtrada = [item for idx, item in enumerate(valid_tickers) if idx not in posiciones_eliminadas]\n",
        "sectors = [yf.Ticker(i).info.get(\"sector\") for i in mi_lista_filtrada]\n",
        "# Crear el DataFrame\n",
        "df = pd.DataFrame({'Cluster': combined_df['Cluster'], 'Empresa': mi_lista_filtrada, 'Sector': sectors})\n",
        "\n",
        "# Mostrar el DataFrame\n",
        "print(df)"
      ],
      "metadata": {
        "colab": {
          "base_uri": "https://localhost:8080/"
        },
        "id": "DSJ-VI89h8OG",
        "outputId": "9611e0ac-6a91-43b3-f530-d5954237cdd4"
      },
      "execution_count": 79,
      "outputs": [
        {
          "output_type": "stream",
          "name": "stdout",
          "text": [
            "    Cluster        Empresa                  Sector\n",
            "0         0     AGUAS-A.SN               Utilities\n",
            "1         0    ANDINA-B.SN      Consumer Defensive\n",
            "2         0         CAP.SN         Basic Materials\n",
            "3         0         CCU.SN      Consumer Defensive\n",
            "4         2    CENCOSUD.SN       Consumer Cyclical\n",
            "5         0        CMPC.SN         Basic Materials\n",
            "6         0      COLBUN.SN               Utilities\n",
            "7         0  CONCHATORO.SN      Consumer Defensive\n",
            "8         0       COPEC.SN             Industrials\n",
            "9         0         ECL.SN               Utilities\n",
            "10        0      ENELAM.SN               Utilities\n",
            "11        2   ENELCHILE.SN               Utilities\n",
            "12        0       ENTEL.SN  Communication Services\n",
            "13        2   FALABELLA.SN       Consumer Cyclical\n",
            "14        0         IAM.SN               Utilities\n",
            "15        0         LTM.SN             Industrials\n",
            "16        0   MALLPLAZA.SN             Real Estate\n",
            "17        0     PARAUCO.SN             Real Estate\n",
            "18        1    QUINENCO.SN                  Energy\n",
            "19        0      RIPLEY.SN       Consumer Cyclical\n",
            "20        0         SMU.SN       Consumer Cyclical\n",
            "21        0       SONDA.SN              Technology\n",
            "22        0       SQM-B.SN         Basic Materials\n",
            "23        0     VAPORES.SN             Industrials\n"
          ]
        }
      ]
    },
    {
      "cell_type": "code",
      "source": [
        "!pip install adjustText"
      ],
      "metadata": {
        "colab": {
          "base_uri": "https://localhost:8080/"
        },
        "id": "xzc6Wo_DxCFI",
        "outputId": "6ef85e2e-3960-4bef-bec0-f322d8f767f6"
      },
      "execution_count": 80,
      "outputs": [
        {
          "output_type": "stream",
          "name": "stdout",
          "text": [
            "Requirement already satisfied: adjustText in /usr/local/lib/python3.10/dist-packages (1.3.0)\n",
            "Requirement already satisfied: numpy in /usr/local/lib/python3.10/dist-packages (from adjustText) (1.26.4)\n",
            "Requirement already satisfied: matplotlib in /usr/local/lib/python3.10/dist-packages (from adjustText) (3.8.0)\n",
            "Requirement already satisfied: scipy in /usr/local/lib/python3.10/dist-packages (from adjustText) (1.13.1)\n",
            "Requirement already satisfied: contourpy>=1.0.1 in /usr/local/lib/python3.10/dist-packages (from matplotlib->adjustText) (1.3.1)\n",
            "Requirement already satisfied: cycler>=0.10 in /usr/local/lib/python3.10/dist-packages (from matplotlib->adjustText) (0.12.1)\n",
            "Requirement already satisfied: fonttools>=4.22.0 in /usr/local/lib/python3.10/dist-packages (from matplotlib->adjustText) (4.55.3)\n",
            "Requirement already satisfied: kiwisolver>=1.0.1 in /usr/local/lib/python3.10/dist-packages (from matplotlib->adjustText) (1.4.7)\n",
            "Requirement already satisfied: packaging>=20.0 in /usr/local/lib/python3.10/dist-packages (from matplotlib->adjustText) (24.2)\n",
            "Requirement already satisfied: pillow>=6.2.0 in /usr/local/lib/python3.10/dist-packages (from matplotlib->adjustText) (11.0.0)\n",
            "Requirement already satisfied: pyparsing>=2.3.1 in /usr/local/lib/python3.10/dist-packages (from matplotlib->adjustText) (3.2.0)\n",
            "Requirement already satisfied: python-dateutil>=2.7 in /usr/local/lib/python3.10/dist-packages (from matplotlib->adjustText) (2.8.2)\n",
            "Requirement already satisfied: six>=1.5 in /usr/local/lib/python3.10/dist-packages (from python-dateutil>=2.7->matplotlib->adjustText) (1.17.0)\n"
          ]
        }
      ]
    },
    {
      "cell_type": "code",
      "source": [
        "from adjustText import adjust_text"
      ],
      "metadata": {
        "id": "k-pnQEZYxV2g"
      },
      "execution_count": 81,
      "outputs": []
    },
    {
      "cell_type": "code",
      "source": [
        "#visualizacion de los cluster usando PCA\n",
        "from sklearn.decomposition import PCA\n",
        "pca_num_components = 2\n",
        "\n",
        "reduced_data = PCA(n_components=pca_num_components).fit_transform(combined_df)\n",
        "results = pd.DataFrame(reduced_data,columns=['pca1','pca2'])\n",
        "\n",
        "\n",
        "\n",
        "# Crear el gráfico de dispersión\n",
        "plt.figure(figsize=(10, 7))\n",
        "sns.scatterplot(x=\"pca1\", y=\"pca2\", hue=df['Cluster'], data=results, palette=\"viridis\", s=100)\n",
        "\n",
        "# Agregar etiquetas a cada punto\n",
        "texts=[]\n",
        "for i in range(len(results)):\n",
        "    texts.append(plt.text(x=results['pca1'][i],\n",
        "                          y=results['pca2'][i],\n",
        "                          s=mi_lista_filtrada[i],\n",
        "                          fontsize=9, color='black', alpha=0.7))\n",
        "\n",
        "# Ajustar las posiciones de las etiquetas para evitar superposición\n",
        "adjust_text(texts, arrowprops=dict(arrowstyle='-', color='gray', alpha=0.5))\n",
        "\n",
        "plt.title('K-means Clustering with 2 dimensions')\n",
        "plt.show()"
      ],
      "metadata": {
        "colab": {
          "base_uri": "https://localhost:8080/",
          "height": 641
        },
        "id": "qDkZkPC1ttfG",
        "outputId": "5625ad9d-922e-4003-fd60-66d442ead1f2"
      },
      "execution_count": 82,
      "outputs": [
        {
          "output_type": "display_data",
          "data": {
            "text/plain": [
              "<Figure size 1000x700 with 1 Axes>"
            ],
            "image/png": "[encoded data removed]"
          },
          "metadata": {}
        }
      ]
    },
    {
      "cell_type": "code",
      "source": [
        "results['Etiqueta'] = mi_lista_filtrada  # Agrega las etiquetas a los datos reducidos\n",
        "\n",
        "# Crear el gráfico de dispersión\n",
        "plt.figure(figsize=(10, 7))\n",
        "scatter = sns.scatterplot(x=\"pca1\", y=\"pca2\", hue=df['Cluster'], data=results, palette=\"viridis\", s=100)\n",
        "\n",
        "# Agregar etiquetas a cada punto\n",
        "for i in range(len(results)):\n",
        "    plt.text(x=results['pca1'][i] + 0.02,  # Ajuste para que no se superpongan\n",
        "             y=results['pca2'][i] + 0.02,\n",
        "             s=results['Etiqueta'][i],\n",
        "             fontsize=9, color='black', alpha=0.7)\n",
        "\n",
        "# Agregar título y mostrar el gráfico\n",
        "plt.title('K-means Clustering with PCA (Labeled)', fontsize=14)\n",
        "plt.show()"
      ],
      "metadata": {
        "colab": {
          "base_uri": "https://localhost:8080/",
          "height": 642
        },
        "id": "TJ6Ei30jwHHV",
        "outputId": "966c0ed3-de7e-44e9-8665-13990309b6b3"
      },
      "execution_count": 68,
      "outputs": [
        {
          "output_type": "display_data",
          "data": {
            "text/plain": [
              "<Figure size 1000x700 with 1 Axes>"
            ],
            "image/png": "[encoded data removed]"
          },
          "metadata": {}
        }
      ]
    },
    {
      "cell_type": "markdown",
      "source": [
        "**-OBTENCION DE INDICADORES FINANCIEROS-**\n",
        "\n",
        "-INDICADORES DE RENTABILIDAD\n",
        "\n",
        "Margen Neto (Net Profit Margin):\n",
        "Net Income/Total Revenue | LISTO\n",
        "\n",
        "Margen Operativo (Operating Margin):\n",
        "Operating Revenue/ Total Revenue | DESCARTADO, todos 1\n",
        "\n",
        "ROE (Return on Equity):\n",
        "Net Income/Stockholders Equity | LISTO\n",
        "\n",
        "ROA (Return on Assets):\n",
        "Net Income/Total Assets | LISTO\n",
        "\n",
        "ROIC (Return on Invested Capital):\n",
        "Net Income−Dividends / Invested Capital | DESCARTADO, problemas con dividends 3, 11, 16 , 23, 26\n",
        "\n",
        "Earnings Yield:\n",
        "EPS /Market Price per Share | POSPUESTO\n",
        "\n",
        "Indicadores de Riesgo Financiero\n",
        "\n",
        "    Deuda Neta a EBITDA:\n",
        "    Net Debt (Total Debt - Cash And Cash Equivalents)/EBITDA |PROBLEMAS CON EBITDA PERO QUEDA\n",
        "    \n",
        "    Evalúa la capacidad de la empresa para pagar su deuda neta usando sus ganancias operativas.\n",
        "\n",
        "    Ratio de Apalancamiento (Leverage Ratio):\n",
        "    Total Liabilities/Total Equity | LISTO\n",
        "    \n",
        "    Indica cuánto riesgo financiero asume la empresa al financiarse con deuda."
      ],
      "metadata": {
        "id": "1UWBxik6NRaY"
      }
    },
    {
      "cell_type": "code",
      "source": [
        "#ULTIMO Y ACTUAL\n",
        "def calculate_metric(data_list_fs, data_list_bs, numerator_key, denominator_key, result_key, numerator_subtract_key=None, data_list_subtract=None):\n",
        "    results = []\n",
        "    for ele in range(len(data_list_fs)):\n",
        "        try:\n",
        "            # Handle the numerator subtraction if specified\n",
        "            if numerator_subtract_key and data_list_subtract:\n",
        "                numerator = data_list_fs[ele].loc[numerator_key] - data_list_subtract[ele].loc[numerator_subtract_key]\n",
        "            else:\n",
        "                numerator = data_list_fs[ele].loc[numerator_key]\n",
        "\n",
        "            # Denominator\n",
        "            denominator = data_list_bs[ele].loc[denominator_key]\n",
        "\n",
        "            # Check if the denominator contains any zero values\n",
        "            if (denominator == 0).any():\n",
        "                # Create a DataFrame with all values set to 0\n",
        "                result = pd.DataFrame(\n",
        "                    0,\n",
        "                    columns=data_list_fs[ele].columns,\n",
        "                    index=[result_key]\n",
        "                )\n",
        "            else:\n",
        "                # Perform the calculation\n",
        "                result = pd.DataFrame(\n",
        "                    [numerator / denominator],\n",
        "                    columns=data_list_fs[ele].columns,\n",
        "                    index=[result_key]\n",
        "                )\n",
        "\n",
        "            # Append the result DataFrame to the results list\n",
        "            results.append(result)\n",
        "\n",
        "        except Exception as e:\n",
        "            print(f\"An error occurred for element {ele}: {e}\")\n",
        "            continue\n",
        "\n",
        "    return results\n"
      ],
      "metadata": {
        "id": "oh55g5ipn5oj"
      },
      "execution_count": null,
      "outputs": []
    },
    {
      "cell_type": "code",
      "source": [
        "#without sustraction\n",
        "results = calculate_metric(l_q_fs, l_q_bs, 'Net Income', 'Total Assets', 'Return on Assets')\n",
        "\n",
        "#with sustraction\n",
        "results = calculate_metric(l_q_fs, l_q_bs, 'Net Income', 'Other Expenses', 'Return on Assets', numerator_subtract_key='Taxes', data_list_subtract=l_q_fs)\n",
        "\n"
      ],
      "metadata": {
        "id": "vrLUNaHWkLal"
      },
      "execution_count": null,
      "outputs": []
    },
    {
      "cell_type": "code",
      "source": [
        "#Margen Neto (Net Profit Margin): -OK-\n",
        "#l_q_fs[10].loc['Net Income']/l_q_fs[10].loc['Total Revenue']\n",
        "\n",
        "results = calculate_metric(l_q_fs, l_q_fs, 'Net Income', 'Total Revenue', 'Margen Neto')"
      ],
      "metadata": {
        "id": "kqLp3C3mnQ9H"
      },
      "execution_count": null,
      "outputs": []
    },
    {
      "cell_type": "code",
      "source": [
        "#ROE (Return on Equity): Net Income/Stockholders Equity -OK-\n",
        "#l_q_fs[ele].loc['Net Income']/l_q_bs[ele].loc['Stockholders Equity']\n",
        "\n",
        "results = calculate_metric(l_q_fs, l_q_bs, 'Net Income', 'Stockholders Equity', 'Return on Equity')"
      ],
      "metadata": {
        "id": "tyZuJb1Vo5SW"
      },
      "execution_count": null,
      "outputs": []
    },
    {
      "cell_type": "code",
      "source": [
        "#ROA (Return on Assets): Net Income/Total Assets -OK-\n",
        "#l_q_fs[ele].loc['Net Income']/l_q_bs[ele].loc['Total Assets']\n",
        "\n",
        "results = calculate_metric(l_q_fs, l_q_bs, 'Net Income', 'Total Assets', 'Return on Assets')"
      ],
      "metadata": {
        "id": "VuBZjXeNnnrp"
      },
      "execution_count": null,
      "outputs": []
    },
    {
      "cell_type": "code",
      "source": [
        "#ROIC (Return on Invested Capital): Net Income − Dividends / Invested Capital\n",
        "#l_q_fs[ele].loc['Net Income'] - l_q_bs[ele].loc['Dividends Payable'] / l_q_bs[ele].loc['Invested Capital']\n",
        "\n",
        "results = calculate_metric(l_q_fs, l_q_bs, 'Net Income', 'Dividends Payable', 'Return on Invested Capital', numerator_subtract_key='Dividends Payable', data_list_subtract=l_q_bs)\n"
      ],
      "metadata": {
        "colab": {
          "base_uri": "https://localhost:8080/"
        },
        "id": "ZfR41UiCrvXx",
        "outputId": "0093aa34-3231-42e9-a745-ba05f8664a9a"
      },
      "execution_count": null,
      "outputs": [
        {
          "output_type": "stream",
          "name": "stdout",
          "text": [
            "An error occurred for element 3: 'Dividends Payable'\n",
            "An error occurred for element 11: 'Dividends Payable'\n",
            "An error occurred for element 12: 'Dividends Payable'\n",
            "An error occurred for element 16: 'Dividends Payable'\n",
            "An error occurred for element 23: 'Dividends Payable'\n"
          ]
        }
      ]
    },
    {
      "cell_type": "code",
      "source": [
        "#Deuda Neta a EBITDA: Net Debt (Total Debt - Cash And Cash Equivalents)/EBITDA\n",
        "#(l_q_bs[0].loc['Total Debt'] - l_q_bs[0].loc['Cash And Cash Equivalents'] / l_q_fs[0].loc['EBITDA']\n",
        "\n",
        "results = calculate_metric(l_q_bs, l_q_fs, 'Total Debt', 'EBITDA', 'EBITDA: Net Debt', numerator_subtract_key='Cash And Cash Equivalents', data_list_subtract=l_q_bs)\n"
      ],
      "metadata": {
        "colab": {
          "base_uri": "https://localhost:8080/"
        },
        "id": "a9eFIWxosxFA",
        "outputId": "8a4980ff-a2f3-44cc-f209-2ae718647dc8"
      },
      "execution_count": null,
      "outputs": [
        {
          "output_type": "stream",
          "name": "stdout",
          "text": [
            "An error occurred for element 2: 'EBITDA'\n",
            "An error occurred for element 3: 'EBITDA'\n",
            "An error occurred for element 7: 'EBITDA'\n",
            "An error occurred for element 18: 'EBITDA'\n"
          ]
        }
      ]
    },
    {
      "cell_type": "code",
      "source": [
        "l_q_fs[2].loc['EBITDA']"
      ],
      "metadata": {
        "colab": {
          "base_uri": "https://localhost:8080/",
          "height": 561
        },
        "id": "ogRyCH348DML",
        "outputId": "39ee26bc-1092-4211-ce75-8192bb9d6701"
      },
      "execution_count": null,
      "outputs": [
        {
          "output_type": "error",
          "ename": "KeyError",
          "evalue": "'EBITDA'",
          "traceback": [
            "\u001b[0;31m---------------------------------------------------------------------------\u001b[0m",
            "\u001b[0;31mKeyError\u001b[0m                                  Traceback (most recent call last)",
            "\u001b[0;32m/usr/local/lib/python3.10/dist-packages/pandas/core/indexes/base.py\u001b[0m in \u001b[0;36mget_loc\u001b[0;34m(self, key)\u001b[0m\n\u001b[1;32m   3804\u001b[0m         \u001b[0;32mtry\u001b[0m\u001b[0;34m:\u001b[0m\u001b[0;34m\u001b[0m\u001b[0;34m\u001b[0m\u001b[0m\n\u001b[0;32m-> 3805\u001b[0;31m             \u001b[0;32mreturn\u001b[0m \u001b[0mself\u001b[0m\u001b[0;34m.\u001b[0m\u001b[0m_engine\u001b[0m\u001b[0;34m.\u001b[0m\u001b[0mget_loc\u001b[0m\u001b[0;34m(\u001b[0m\u001b[0mcasted_key\u001b[0m\u001b[0;34m)\u001b[0m\u001b[0;34m\u001b[0m\u001b[0;34m\u001b[0m\u001b[0m\n\u001b[0m\u001b[1;32m   3806\u001b[0m         \u001b[0;32mexcept\u001b[0m \u001b[0mKeyError\u001b[0m \u001b[0;32mas\u001b[0m \u001b[0merr\u001b[0m\u001b[0;34m:\u001b[0m\u001b[0;34m\u001b[0m\u001b[0;34m\u001b[0m\u001b[0m\n",
            "\u001b[0;32mindex.pyx\u001b[0m in \u001b[0;36mpandas._libs.index.IndexEngine.get_loc\u001b[0;34m()\u001b[0m\n",
            "\u001b[0;32mindex.pyx\u001b[0m in \u001b[0;36mpandas._libs.index.IndexEngine.get_loc\u001b[0;34m()\u001b[0m\n",
            "\u001b[0;32mpandas/_libs/hashtable_class_helper.pxi\u001b[0m in \u001b[0;36mpandas._libs.hashtable.PyObjectHashTable.get_item\u001b[0;34m()\u001b[0m\n",
            "\u001b[0;32mpandas/_libs/hashtable_class_helper.pxi\u001b[0m in \u001b[0;36mpandas._libs.hashtable.PyObjectHashTable.get_item\u001b[0;34m()\u001b[0m\n",
            "\u001b[0;31mKeyError\u001b[0m: 'EBITDA'",
            "\nThe above exception was the direct cause of the following exception:\n",
            "\u001b[0;31mKeyError\u001b[0m                                  Traceback (most recent call last)",
            "\u001b[0;32m<ipython-input-29-3534e5da67f5>\u001b[0m in \u001b[0;36m<cell line: 1>\u001b[0;34m()\u001b[0m\n\u001b[0;32m----> 1\u001b[0;31m \u001b[0ml_q_fs\u001b[0m\u001b[0;34m[\u001b[0m\u001b[0;36m2\u001b[0m\u001b[0;34m]\u001b[0m\u001b[0;34m.\u001b[0m\u001b[0mloc\u001b[0m\u001b[0;34m[\u001b[0m\u001b[0;34m'EBITDA'\u001b[0m\u001b[0;34m]\u001b[0m\u001b[0;34m\u001b[0m\u001b[0;34m\u001b[0m\u001b[0m\n\u001b[0m",
            "\u001b[0;32m/usr/local/lib/python3.10/dist-packages/pandas/core/indexing.py\u001b[0m in \u001b[0;36m__getitem__\u001b[0;34m(self, key)\u001b[0m\n\u001b[1;32m   1189\u001b[0m             \u001b[0mmaybe_callable\u001b[0m \u001b[0;34m=\u001b[0m \u001b[0mcom\u001b[0m\u001b[0;34m.\u001b[0m\u001b[0mapply_if_callable\u001b[0m\u001b[0;34m(\u001b[0m\u001b[0mkey\u001b[0m\u001b[0;34m,\u001b[0m \u001b[0mself\u001b[0m\u001b[0;34m.\u001b[0m\u001b[0mobj\u001b[0m\u001b[0;34m)\u001b[0m\u001b[0;34m\u001b[0m\u001b[0;34m\u001b[0m\u001b[0m\n\u001b[1;32m   1190\u001b[0m             \u001b[0mmaybe_callable\u001b[0m \u001b[0;34m=\u001b[0m \u001b[0mself\u001b[0m\u001b[0;34m.\u001b[0m\u001b[0m_check_deprecated_callable_usage\u001b[0m\u001b[0;34m(\u001b[0m\u001b[0mkey\u001b[0m\u001b[0;34m,\u001b[0m \u001b[0mmaybe_callable\u001b[0m\u001b[0;34m)\u001b[0m\u001b[0;34m\u001b[0m\u001b[0;34m\u001b[0m\u001b[0m\n\u001b[0;32m-> 1191\u001b[0;31m             \u001b[0;32mreturn\u001b[0m \u001b[0mself\u001b[0m\u001b[0;34m.\u001b[0m\u001b[0m_getitem_axis\u001b[0m\u001b[0;34m(\u001b[0m\u001b[0mmaybe_callable\u001b[0m\u001b[0;34m,\u001b[0m \u001b[0maxis\u001b[0m\u001b[0;34m=\u001b[0m\u001b[0maxis\u001b[0m\u001b[0;34m)\u001b[0m\u001b[0;34m\u001b[0m\u001b[0;34m\u001b[0m\u001b[0m\n\u001b[0m\u001b[1;32m   1192\u001b[0m \u001b[0;34m\u001b[0m\u001b[0m\n\u001b[1;32m   1193\u001b[0m     \u001b[0;32mdef\u001b[0m \u001b[0m_is_scalar_access\u001b[0m\u001b[0;34m(\u001b[0m\u001b[0mself\u001b[0m\u001b[0;34m,\u001b[0m \u001b[0mkey\u001b[0m\u001b[0;34m:\u001b[0m \u001b[0mtuple\u001b[0m\u001b[0;34m)\u001b[0m\u001b[0;34m:\u001b[0m\u001b[0;34m\u001b[0m\u001b[0;34m\u001b[0m\u001b[0m\n",
            "\u001b[0;32m/usr/local/lib/python3.10/dist-packages/pandas/core/indexing.py\u001b[0m in \u001b[0;36m_getitem_axis\u001b[0;34m(self, key, axis)\u001b[0m\n\u001b[1;32m   1429\u001b[0m         \u001b[0;31m# fall thru to straight lookup\u001b[0m\u001b[0;34m\u001b[0m\u001b[0;34m\u001b[0m\u001b[0m\n\u001b[1;32m   1430\u001b[0m         \u001b[0mself\u001b[0m\u001b[0;34m.\u001b[0m\u001b[0m_validate_key\u001b[0m\u001b[0;34m(\u001b[0m\u001b[0mkey\u001b[0m\u001b[0;34m,\u001b[0m \u001b[0maxis\u001b[0m\u001b[0;34m)\u001b[0m\u001b[0;34m\u001b[0m\u001b[0;34m\u001b[0m\u001b[0m\n\u001b[0;32m-> 1431\u001b[0;31m         \u001b[0;32mreturn\u001b[0m \u001b[0mself\u001b[0m\u001b[0;34m.\u001b[0m\u001b[0m_get_label\u001b[0m\u001b[0;34m(\u001b[0m\u001b[0mkey\u001b[0m\u001b[0;34m,\u001b[0m \u001b[0maxis\u001b[0m\u001b[0;34m=\u001b[0m\u001b[0maxis\u001b[0m\u001b[0;34m)\u001b[0m\u001b[0;34m\u001b[0m\u001b[0;34m\u001b[0m\u001b[0m\n\u001b[0m\u001b[1;32m   1432\u001b[0m \u001b[0;34m\u001b[0m\u001b[0m\n\u001b[1;32m   1433\u001b[0m     \u001b[0;32mdef\u001b[0m \u001b[0m_get_slice_axis\u001b[0m\u001b[0;34m(\u001b[0m\u001b[0mself\u001b[0m\u001b[0;34m,\u001b[0m \u001b[0mslice_obj\u001b[0m\u001b[0;34m:\u001b[0m \u001b[0mslice\u001b[0m\u001b[0;34m,\u001b[0m \u001b[0maxis\u001b[0m\u001b[0;34m:\u001b[0m \u001b[0mAxisInt\u001b[0m\u001b[0;34m)\u001b[0m\u001b[0;34m:\u001b[0m\u001b[0;34m\u001b[0m\u001b[0;34m\u001b[0m\u001b[0m\n",
            "\u001b[0;32m/usr/local/lib/python3.10/dist-packages/pandas/core/indexing.py\u001b[0m in \u001b[0;36m_get_label\u001b[0;34m(self, label, axis)\u001b[0m\n\u001b[1;32m   1379\u001b[0m     \u001b[0;32mdef\u001b[0m \u001b[0m_get_label\u001b[0m\u001b[0;34m(\u001b[0m\u001b[0mself\u001b[0m\u001b[0;34m,\u001b[0m \u001b[0mlabel\u001b[0m\u001b[0;34m,\u001b[0m \u001b[0maxis\u001b[0m\u001b[0;34m:\u001b[0m \u001b[0mAxisInt\u001b[0m\u001b[0;34m)\u001b[0m\u001b[0;34m:\u001b[0m\u001b[0;34m\u001b[0m\u001b[0;34m\u001b[0m\u001b[0m\n\u001b[1;32m   1380\u001b[0m         \u001b[0;31m# GH#5567 this will fail if the label is not present in the axis.\u001b[0m\u001b[0;34m\u001b[0m\u001b[0;34m\u001b[0m\u001b[0m\n\u001b[0;32m-> 1381\u001b[0;31m         \u001b[0;32mreturn\u001b[0m \u001b[0mself\u001b[0m\u001b[0;34m.\u001b[0m\u001b[0mobj\u001b[0m\u001b[0;34m.\u001b[0m\u001b[0mxs\u001b[0m\u001b[0;34m(\u001b[0m\u001b[0mlabel\u001b[0m\u001b[0;34m,\u001b[0m \u001b[0maxis\u001b[0m\u001b[0;34m=\u001b[0m\u001b[0maxis\u001b[0m\u001b[0;34m)\u001b[0m\u001b[0;34m\u001b[0m\u001b[0;34m\u001b[0m\u001b[0m\n\u001b[0m\u001b[1;32m   1382\u001b[0m \u001b[0;34m\u001b[0m\u001b[0m\n\u001b[1;32m   1383\u001b[0m     \u001b[0;32mdef\u001b[0m \u001b[0m_handle_lowerdim_multi_index_axis0\u001b[0m\u001b[0;34m(\u001b[0m\u001b[0mself\u001b[0m\u001b[0;34m,\u001b[0m \u001b[0mtup\u001b[0m\u001b[0;34m:\u001b[0m \u001b[0mtuple\u001b[0m\u001b[0;34m)\u001b[0m\u001b[0;34m:\u001b[0m\u001b[0;34m\u001b[0m\u001b[0;34m\u001b[0m\u001b[0m\n",
            "\u001b[0;32m/usr/local/lib/python3.10/dist-packages/pandas/core/generic.py\u001b[0m in \u001b[0;36mxs\u001b[0;34m(self, key, axis, level, drop_level)\u001b[0m\n\u001b[1;32m   4299\u001b[0m                     \u001b[0mnew_index\u001b[0m \u001b[0;34m=\u001b[0m \u001b[0mindex\u001b[0m\u001b[0;34m[\u001b[0m\u001b[0mloc\u001b[0m\u001b[0;34m]\u001b[0m\u001b[0;34m\u001b[0m\u001b[0;34m\u001b[0m\u001b[0m\n\u001b[1;32m   4300\u001b[0m         \u001b[0;32melse\u001b[0m\u001b[0;34m:\u001b[0m\u001b[0;34m\u001b[0m\u001b[0;34m\u001b[0m\u001b[0m\n\u001b[0;32m-> 4301\u001b[0;31m             \u001b[0mloc\u001b[0m \u001b[0;34m=\u001b[0m \u001b[0mindex\u001b[0m\u001b[0;34m.\u001b[0m\u001b[0mget_loc\u001b[0m\u001b[0;34m(\u001b[0m\u001b[0mkey\u001b[0m\u001b[0;34m)\u001b[0m\u001b[0;34m\u001b[0m\u001b[0;34m\u001b[0m\u001b[0m\n\u001b[0m\u001b[1;32m   4302\u001b[0m \u001b[0;34m\u001b[0m\u001b[0m\n\u001b[1;32m   4303\u001b[0m             \u001b[0;32mif\u001b[0m \u001b[0misinstance\u001b[0m\u001b[0;34m(\u001b[0m\u001b[0mloc\u001b[0m\u001b[0;34m,\u001b[0m \u001b[0mnp\u001b[0m\u001b[0;34m.\u001b[0m\u001b[0mndarray\u001b[0m\u001b[0;34m)\u001b[0m\u001b[0;34m:\u001b[0m\u001b[0;34m\u001b[0m\u001b[0;34m\u001b[0m\u001b[0m\n",
            "\u001b[0;32m/usr/local/lib/python3.10/dist-packages/pandas/core/indexes/base.py\u001b[0m in \u001b[0;36mget_loc\u001b[0;34m(self, key)\u001b[0m\n\u001b[1;32m   3810\u001b[0m             ):\n\u001b[1;32m   3811\u001b[0m                 \u001b[0;32mraise\u001b[0m \u001b[0mInvalidIndexError\u001b[0m\u001b[0;34m(\u001b[0m\u001b[0mkey\u001b[0m\u001b[0;34m)\u001b[0m\u001b[0;34m\u001b[0m\u001b[0;34m\u001b[0m\u001b[0m\n\u001b[0;32m-> 3812\u001b[0;31m             \u001b[0;32mraise\u001b[0m \u001b[0mKeyError\u001b[0m\u001b[0;34m(\u001b[0m\u001b[0mkey\u001b[0m\u001b[0;34m)\u001b[0m \u001b[0;32mfrom\u001b[0m \u001b[0merr\u001b[0m\u001b[0;34m\u001b[0m\u001b[0;34m\u001b[0m\u001b[0m\n\u001b[0m\u001b[1;32m   3813\u001b[0m         \u001b[0;32mexcept\u001b[0m \u001b[0mTypeError\u001b[0m\u001b[0;34m:\u001b[0m\u001b[0;34m\u001b[0m\u001b[0;34m\u001b[0m\u001b[0m\n\u001b[1;32m   3814\u001b[0m             \u001b[0;31m# If we have a listlike key, _check_indexing_error will raise\u001b[0m\u001b[0;34m\u001b[0m\u001b[0;34m\u001b[0m\u001b[0m\n",
            "\u001b[0;31mKeyError\u001b[0m: 'EBITDA'"
          ]
        }
      ]
    },
    {
      "cell_type": "code",
      "source": [
        "#Earnings Yield: EPS /Market Price per Share\n",
        "#l_q_fs[ele].loc['Diluted EPS']/l_q_bs[ele].loc['Total Assets']"
      ],
      "metadata": {
        "id": "8Q8k14DA39W6"
      },
      "execution_count": null,
      "outputs": []
    },
    {
      "cell_type": "code",
      "source": [
        "#Ratio de Apalancamiento (Leverage Ratio): Total Liabilities/Total Equity -OK-\n",
        "#Indica cuánto riesgo financiero asume la empresa al financiarse con deuda\n",
        "#l_q_bs[ele].loc['Total Liabilities Net Minority Interest']/l_q_bs[ele].loc['Total Assets']\n",
        "\n",
        "results = calculate_metric(l_q_bs, l_q_bs, 'Total Liabilities Net Minority Interest', 'Total Assets', 'Leverage Ratio')"
      ],
      "metadata": {
        "id": "I-kJf3Oit26h"
      },
      "execution_count": null,
      "outputs": []
    },
    {
      "cell_type": "markdown",
      "source": [
        "2. Indicadores de ValuacióN\n",
        "\n",
        "Precio/Ganancia (P/E Ratio):\n",
        "EPS/Market Price per Share​\n",
        "\n",
        "Precio/Valor en Libros (P/B Ratio):\n",
        "Market Price per Share / (Stockholders Equity/Shares Outstanding)\n",
        "\n",
        "Enterprise Value/EBITDA (EV/EBITDA):\n",
        "Enterprise Value​ / EBITDA\n",
        "\n",
        "Precio/Ventas (P/S Ratio):\n",
        "Market Capitalization / Total Revenue\n"
      ],
      "metadata": {
        "id": "Ppz_OIQWiKMf"
      }
    },
    {
      "cell_type": "code",
      "source": [
        "from sklearn.impute import KNNImputer\n",
        "\n",
        "def knn_impute_nan_entire_df(dataframes_list, n_neighbors=3):\n",
        "    \"\"\"\n",
        "    Use KNN to impute NaN values in a list of DataFrames for all columns.\n",
        "\n",
        "    Args:\n",
        "    - dataframes_list (list): List of DataFrames to process.\n",
        "    - n_neighbors (int): Number of neighbors to use for KNN imputation.\n",
        "\n",
        "    Returns:\n",
        "    - list: List of DataFrames with NaN values imputed.\n",
        "    \"\"\"\n",
        "    updated_dataframes = []\n",
        "\n",
        "    for i, df in enumerate(dataframes_list):\n",
        "        try:\n",
        "            # Transpose the DataFrame to match KNNImputer's expected input format\n",
        "            df_transposed = df.T\n",
        "\n",
        "            # Apply KNN imputer\n",
        "            imputer = KNNImputer(n_neighbors=n_neighbors)\n",
        "            imputed_data = imputer.fit_transform(df_transposed)\n",
        "\n",
        "            # Reconstruct the DataFrame with imputed values\n",
        "            df_imputed = pd.DataFrame(imputed_data, columns=df_transposed.columns, index=df_transposed.index).T\n",
        "\n",
        "            # Append the updated DataFrame to the list\n",
        "            updated_dataframes.append(df_imputed)\n",
        "        except Exception as e:\n",
        "            print(valid_tickers[i])\n",
        "            print(f\"An error occurred at iteration {i} (DataFrame index {i}): {e}\")\n",
        "            updated_dataframes.append(df)\n",
        "\n",
        "    return updated_dataframes\n",
        "\n",
        "# Apply KNN imputation to the entire DataFrame\n",
        "l_q_fs_knn_imputed_all = knn_impute_nan_entire_df(l_q_fs_cleaned, n_neighbors=3)\n",
        "\n",
        "# Check the imputed DataFrames\n",
        "#for i, df in enumerate(l_q_fs_knn_imputed_all):\n",
        "#    print(f\"Imputed DataFrame {i}:\")\n",
        "#    print(df)\n"
      ],
      "metadata": {
        "id": "QKNOexf61Rol"
      },
      "execution_count": null,
      "outputs": []
    },
    {
      "cell_type": "code",
      "source": [
        "valid_tickers[18]"
      ],
      "metadata": {
        "id": "HFiKKHZgs-gD",
        "colab": {
          "base_uri": "https://localhost:8080/",
          "height": 35
        },
        "outputId": "1ce02c60-f336-4b76-bfd8-3344e7cd089e"
      },
      "execution_count": null,
      "outputs": [
        {
          "output_type": "execute_result",
          "data": {
            "text/plain": [
              "'ITAUCL.SN'"
            ],
            "application/vnd.google.colaboratory.intrinsic+json": {
              "type": "string"
            }
          },
          "metadata": {},
          "execution_count": 104
        }
      ]
    },
    {
      "cell_type": "code",
      "source": [],
      "metadata": {
        "id": "zAFn8gl_0aCD"
      },
      "execution_count": null,
      "outputs": []
    }
  ]
}